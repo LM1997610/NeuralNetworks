{
  "nbformat": 4,
  "nbformat_minor": 0,
  "metadata": {
    "colab": {
      "provenance": [],
      "collapsed_sections": [
        "WLPf2qyrF3-m"
      ],
      "include_colab_link": true
    },
    "kernelspec": {
      "name": "python3",
      "display_name": "Python 3"
    },
    "language_info": {
      "name": "python"
    },
    "widgets": {
      "application/vnd.jupyter.widget-state+json": {
        "1c46a12a19164de89a486b1bd48a0783": {
          "model_module": "@jupyter-widgets/controls",
          "model_name": "HBoxModel",
          "model_module_version": "1.5.0",
          "state": {
            "_dom_classes": [],
            "_model_module": "@jupyter-widgets/controls",
            "_model_module_version": "1.5.0",
            "_model_name": "HBoxModel",
            "_view_count": null,
            "_view_module": "@jupyter-widgets/controls",
            "_view_module_version": "1.5.0",
            "_view_name": "HBoxView",
            "box_style": "",
            "children": [
              "IPY_MODEL_1d82fd9a46ce407db4b6c06c69c1619e",
              "IPY_MODEL_8a95c081be404938a892fbc7f0c50acc",
              "IPY_MODEL_e5a73ee3ca714a55a504c4c7523fc5af"
            ],
            "layout": "IPY_MODEL_04902c1c87474db39a65f7ddcc6ccd0f"
          }
        },
        "1d82fd9a46ce407db4b6c06c69c1619e": {
          "model_module": "@jupyter-widgets/controls",
          "model_name": "HTMLModel",
          "model_module_version": "1.5.0",
          "state": {
            "_dom_classes": [],
            "_model_module": "@jupyter-widgets/controls",
            "_model_module_version": "1.5.0",
            "_model_name": "HTMLModel",
            "_view_count": null,
            "_view_module": "@jupyter-widgets/controls",
            "_view_module_version": "1.5.0",
            "_view_name": "HTMLView",
            "description": "",
            "description_tooltip": null,
            "layout": "IPY_MODEL_ca82a558fd7444d7aa84678843fc3b87",
            "placeholder": "​",
            "style": "IPY_MODEL_381f7c8118724ffa8f50f9d8706ce96a",
            "value": "100%"
          }
        },
        "8a95c081be404938a892fbc7f0c50acc": {
          "model_module": "@jupyter-widgets/controls",
          "model_name": "FloatProgressModel",
          "model_module_version": "1.5.0",
          "state": {
            "_dom_classes": [],
            "_model_module": "@jupyter-widgets/controls",
            "_model_module_version": "1.5.0",
            "_model_name": "FloatProgressModel",
            "_view_count": null,
            "_view_module": "@jupyter-widgets/controls",
            "_view_module_version": "1.5.0",
            "_view_name": "ProgressView",
            "bar_style": "success",
            "description": "",
            "description_tooltip": null,
            "layout": "IPY_MODEL_95816f17db594101b82fd529babe7a20",
            "max": 9998,
            "min": 0,
            "orientation": "horizontal",
            "style": "IPY_MODEL_d60ec143b21f46a1bb88a0173518689e",
            "value": 9998
          }
        },
        "e5a73ee3ca714a55a504c4c7523fc5af": {
          "model_module": "@jupyter-widgets/controls",
          "model_name": "HTMLModel",
          "model_module_version": "1.5.0",
          "state": {
            "_dom_classes": [],
            "_model_module": "@jupyter-widgets/controls",
            "_model_module_version": "1.5.0",
            "_model_name": "HTMLModel",
            "_view_count": null,
            "_view_module": "@jupyter-widgets/controls",
            "_view_module_version": "1.5.0",
            "_view_name": "HTMLView",
            "description": "",
            "description_tooltip": null,
            "layout": "IPY_MODEL_959e756ce7914f12b3a1caca00ae39ed",
            "placeholder": "​",
            "style": "IPY_MODEL_5a06d58c25e14f5aa570022005999863",
            "value": " 9998/9998 [03:13&lt;00:00, 29.76it/s]"
          }
        },
        "04902c1c87474db39a65f7ddcc6ccd0f": {
          "model_module": "@jupyter-widgets/base",
          "model_name": "LayoutModel",
          "model_module_version": "1.2.0",
          "state": {
            "_model_module": "@jupyter-widgets/base",
            "_model_module_version": "1.2.0",
            "_model_name": "LayoutModel",
            "_view_count": null,
            "_view_module": "@jupyter-widgets/base",
            "_view_module_version": "1.2.0",
            "_view_name": "LayoutView",
            "align_content": null,
            "align_items": null,
            "align_self": null,
            "border": null,
            "bottom": null,
            "display": null,
            "flex": null,
            "flex_flow": null,
            "grid_area": null,
            "grid_auto_columns": null,
            "grid_auto_flow": null,
            "grid_auto_rows": null,
            "grid_column": null,
            "grid_gap": null,
            "grid_row": null,
            "grid_template_areas": null,
            "grid_template_columns": null,
            "grid_template_rows": null,
            "height": null,
            "justify_content": null,
            "justify_items": null,
            "left": null,
            "margin": null,
            "max_height": null,
            "max_width": null,
            "min_height": null,
            "min_width": null,
            "object_fit": null,
            "object_position": null,
            "order": null,
            "overflow": null,
            "overflow_x": null,
            "overflow_y": null,
            "padding": null,
            "right": null,
            "top": null,
            "visibility": null,
            "width": null
          }
        },
        "ca82a558fd7444d7aa84678843fc3b87": {
          "model_module": "@jupyter-widgets/base",
          "model_name": "LayoutModel",
          "model_module_version": "1.2.0",
          "state": {
            "_model_module": "@jupyter-widgets/base",
            "_model_module_version": "1.2.0",
            "_model_name": "LayoutModel",
            "_view_count": null,
            "_view_module": "@jupyter-widgets/base",
            "_view_module_version": "1.2.0",
            "_view_name": "LayoutView",
            "align_content": null,
            "align_items": null,
            "align_self": null,
            "border": null,
            "bottom": null,
            "display": null,
            "flex": null,
            "flex_flow": null,
            "grid_area": null,
            "grid_auto_columns": null,
            "grid_auto_flow": null,
            "grid_auto_rows": null,
            "grid_column": null,
            "grid_gap": null,
            "grid_row": null,
            "grid_template_areas": null,
            "grid_template_columns": null,
            "grid_template_rows": null,
            "height": null,
            "justify_content": null,
            "justify_items": null,
            "left": null,
            "margin": null,
            "max_height": null,
            "max_width": null,
            "min_height": null,
            "min_width": null,
            "object_fit": null,
            "object_position": null,
            "order": null,
            "overflow": null,
            "overflow_x": null,
            "overflow_y": null,
            "padding": null,
            "right": null,
            "top": null,
            "visibility": null,
            "width": null
          }
        },
        "381f7c8118724ffa8f50f9d8706ce96a": {
          "model_module": "@jupyter-widgets/controls",
          "model_name": "DescriptionStyleModel",
          "model_module_version": "1.5.0",
          "state": {
            "_model_module": "@jupyter-widgets/controls",
            "_model_module_version": "1.5.0",
            "_model_name": "DescriptionStyleModel",
            "_view_count": null,
            "_view_module": "@jupyter-widgets/base",
            "_view_module_version": "1.2.0",
            "_view_name": "StyleView",
            "description_width": ""
          }
        },
        "95816f17db594101b82fd529babe7a20": {
          "model_module": "@jupyter-widgets/base",
          "model_name": "LayoutModel",
          "model_module_version": "1.2.0",
          "state": {
            "_model_module": "@jupyter-widgets/base",
            "_model_module_version": "1.2.0",
            "_model_name": "LayoutModel",
            "_view_count": null,
            "_view_module": "@jupyter-widgets/base",
            "_view_module_version": "1.2.0",
            "_view_name": "LayoutView",
            "align_content": null,
            "align_items": null,
            "align_self": null,
            "border": null,
            "bottom": null,
            "display": null,
            "flex": null,
            "flex_flow": null,
            "grid_area": null,
            "grid_auto_columns": null,
            "grid_auto_flow": null,
            "grid_auto_rows": null,
            "grid_column": null,
            "grid_gap": null,
            "grid_row": null,
            "grid_template_areas": null,
            "grid_template_columns": null,
            "grid_template_rows": null,
            "height": null,
            "justify_content": null,
            "justify_items": null,
            "left": null,
            "margin": null,
            "max_height": null,
            "max_width": null,
            "min_height": null,
            "min_width": null,
            "object_fit": null,
            "object_position": null,
            "order": null,
            "overflow": null,
            "overflow_x": null,
            "overflow_y": null,
            "padding": null,
            "right": null,
            "top": null,
            "visibility": null,
            "width": null
          }
        },
        "d60ec143b21f46a1bb88a0173518689e": {
          "model_module": "@jupyter-widgets/controls",
          "model_name": "ProgressStyleModel",
          "model_module_version": "1.5.0",
          "state": {
            "_model_module": "@jupyter-widgets/controls",
            "_model_module_version": "1.5.0",
            "_model_name": "ProgressStyleModel",
            "_view_count": null,
            "_view_module": "@jupyter-widgets/base",
            "_view_module_version": "1.2.0",
            "_view_name": "StyleView",
            "bar_color": null,
            "description_width": ""
          }
        },
        "959e756ce7914f12b3a1caca00ae39ed": {
          "model_module": "@jupyter-widgets/base",
          "model_name": "LayoutModel",
          "model_module_version": "1.2.0",
          "state": {
            "_model_module": "@jupyter-widgets/base",
            "_model_module_version": "1.2.0",
            "_model_name": "LayoutModel",
            "_view_count": null,
            "_view_module": "@jupyter-widgets/base",
            "_view_module_version": "1.2.0",
            "_view_name": "LayoutView",
            "align_content": null,
            "align_items": null,
            "align_self": null,
            "border": null,
            "bottom": null,
            "display": null,
            "flex": null,
            "flex_flow": null,
            "grid_area": null,
            "grid_auto_columns": null,
            "grid_auto_flow": null,
            "grid_auto_rows": null,
            "grid_column": null,
            "grid_gap": null,
            "grid_row": null,
            "grid_template_areas": null,
            "grid_template_columns": null,
            "grid_template_rows": null,
            "height": null,
            "justify_content": null,
            "justify_items": null,
            "left": null,
            "margin": null,
            "max_height": null,
            "max_width": null,
            "min_height": null,
            "min_width": null,
            "object_fit": null,
            "object_position": null,
            "order": null,
            "overflow": null,
            "overflow_x": null,
            "overflow_y": null,
            "padding": null,
            "right": null,
            "top": null,
            "visibility": null,
            "width": null
          }
        },
        "5a06d58c25e14f5aa570022005999863": {
          "model_module": "@jupyter-widgets/controls",
          "model_name": "DescriptionStyleModel",
          "model_module_version": "1.5.0",
          "state": {
            "_model_module": "@jupyter-widgets/controls",
            "_model_module_version": "1.5.0",
            "_model_name": "DescriptionStyleModel",
            "_view_count": null,
            "_view_module": "@jupyter-widgets/base",
            "_view_module_version": "1.2.0",
            "_view_name": "StyleView",
            "description_width": ""
          }
        },
        "8636c7f4a1604ad6bfa1336e245814d8": {
          "model_module": "@jupyter-widgets/controls",
          "model_name": "HBoxModel",
          "model_module_version": "1.5.0",
          "state": {
            "_dom_classes": [],
            "_model_module": "@jupyter-widgets/controls",
            "_model_module_version": "1.5.0",
            "_model_name": "HBoxModel",
            "_view_count": null,
            "_view_module": "@jupyter-widgets/controls",
            "_view_module_version": "1.5.0",
            "_view_name": "HBoxView",
            "box_style": "",
            "children": [
              "IPY_MODEL_7304453286ba449ba2b444d0d0bddba4",
              "IPY_MODEL_52aaf80fa76a46a2b4768200c0bced6e",
              "IPY_MODEL_a973a127725c4acda7cafd2d1ff60243"
            ],
            "layout": "IPY_MODEL_2d247ceef3aa4c3db6b7db2b9f259df2"
          }
        },
        "7304453286ba449ba2b444d0d0bddba4": {
          "model_module": "@jupyter-widgets/controls",
          "model_name": "HTMLModel",
          "model_module_version": "1.5.0",
          "state": {
            "_dom_classes": [],
            "_model_module": "@jupyter-widgets/controls",
            "_model_module_version": "1.5.0",
            "_model_name": "HTMLModel",
            "_view_count": null,
            "_view_module": "@jupyter-widgets/controls",
            "_view_module_version": "1.5.0",
            "_view_name": "HTMLView",
            "description": "",
            "description_tooltip": null,
            "layout": "IPY_MODEL_f2136d012e0a43d896eb835fa58a67d6",
            "placeholder": "​",
            "style": "IPY_MODEL_b77930e941e647c18f1fcaffc1602c9b",
            "value": " 40%"
          }
        },
        "52aaf80fa76a46a2b4768200c0bced6e": {
          "model_module": "@jupyter-widgets/controls",
          "model_name": "FloatProgressModel",
          "model_module_version": "1.5.0",
          "state": {
            "_dom_classes": [],
            "_model_module": "@jupyter-widgets/controls",
            "_model_module_version": "1.5.0",
            "_model_name": "FloatProgressModel",
            "_view_count": null,
            "_view_module": "@jupyter-widgets/controls",
            "_view_module_version": "1.5.0",
            "_view_name": "ProgressView",
            "bar_style": "danger",
            "description": "",
            "description_tooltip": null,
            "layout": "IPY_MODEL_f45f1d42b53d4025851f15c2209de50f",
            "max": 25,
            "min": 0,
            "orientation": "horizontal",
            "style": "IPY_MODEL_5a8caef2634842228d42fffdc06ec426",
            "value": 10
          }
        },
        "a973a127725c4acda7cafd2d1ff60243": {
          "model_module": "@jupyter-widgets/controls",
          "model_name": "HTMLModel",
          "model_module_version": "1.5.0",
          "state": {
            "_dom_classes": [],
            "_model_module": "@jupyter-widgets/controls",
            "_model_module_version": "1.5.0",
            "_model_name": "HTMLModel",
            "_view_count": null,
            "_view_module": "@jupyter-widgets/controls",
            "_view_module_version": "1.5.0",
            "_view_name": "HTMLView",
            "description": "",
            "description_tooltip": null,
            "layout": "IPY_MODEL_751ed76bade84114b90f74db12705bfd",
            "placeholder": "​",
            "style": "IPY_MODEL_c4cb2e83480e452f82b9935602d4cb2e",
            "value": " 10/25 [00:03&lt;00:04,  3.03it/s]"
          }
        },
        "2d247ceef3aa4c3db6b7db2b9f259df2": {
          "model_module": "@jupyter-widgets/base",
          "model_name": "LayoutModel",
          "model_module_version": "1.2.0",
          "state": {
            "_model_module": "@jupyter-widgets/base",
            "_model_module_version": "1.2.0",
            "_model_name": "LayoutModel",
            "_view_count": null,
            "_view_module": "@jupyter-widgets/base",
            "_view_module_version": "1.2.0",
            "_view_name": "LayoutView",
            "align_content": null,
            "align_items": null,
            "align_self": null,
            "border": null,
            "bottom": null,
            "display": null,
            "flex": null,
            "flex_flow": null,
            "grid_area": null,
            "grid_auto_columns": null,
            "grid_auto_flow": null,
            "grid_auto_rows": null,
            "grid_column": null,
            "grid_gap": null,
            "grid_row": null,
            "grid_template_areas": null,
            "grid_template_columns": null,
            "grid_template_rows": null,
            "height": null,
            "justify_content": null,
            "justify_items": null,
            "left": null,
            "margin": null,
            "max_height": null,
            "max_width": null,
            "min_height": null,
            "min_width": null,
            "object_fit": null,
            "object_position": null,
            "order": null,
            "overflow": null,
            "overflow_x": null,
            "overflow_y": null,
            "padding": null,
            "right": null,
            "top": null,
            "visibility": null,
            "width": null
          }
        },
        "f2136d012e0a43d896eb835fa58a67d6": {
          "model_module": "@jupyter-widgets/base",
          "model_name": "LayoutModel",
          "model_module_version": "1.2.0",
          "state": {
            "_model_module": "@jupyter-widgets/base",
            "_model_module_version": "1.2.0",
            "_model_name": "LayoutModel",
            "_view_count": null,
            "_view_module": "@jupyter-widgets/base",
            "_view_module_version": "1.2.0",
            "_view_name": "LayoutView",
            "align_content": null,
            "align_items": null,
            "align_self": null,
            "border": null,
            "bottom": null,
            "display": null,
            "flex": null,
            "flex_flow": null,
            "grid_area": null,
            "grid_auto_columns": null,
            "grid_auto_flow": null,
            "grid_auto_rows": null,
            "grid_column": null,
            "grid_gap": null,
            "grid_row": null,
            "grid_template_areas": null,
            "grid_template_columns": null,
            "grid_template_rows": null,
            "height": null,
            "justify_content": null,
            "justify_items": null,
            "left": null,
            "margin": null,
            "max_height": null,
            "max_width": null,
            "min_height": null,
            "min_width": null,
            "object_fit": null,
            "object_position": null,
            "order": null,
            "overflow": null,
            "overflow_x": null,
            "overflow_y": null,
            "padding": null,
            "right": null,
            "top": null,
            "visibility": null,
            "width": null
          }
        },
        "b77930e941e647c18f1fcaffc1602c9b": {
          "model_module": "@jupyter-widgets/controls",
          "model_name": "DescriptionStyleModel",
          "model_module_version": "1.5.0",
          "state": {
            "_model_module": "@jupyter-widgets/controls",
            "_model_module_version": "1.5.0",
            "_model_name": "DescriptionStyleModel",
            "_view_count": null,
            "_view_module": "@jupyter-widgets/base",
            "_view_module_version": "1.2.0",
            "_view_name": "StyleView",
            "description_width": ""
          }
        },
        "f45f1d42b53d4025851f15c2209de50f": {
          "model_module": "@jupyter-widgets/base",
          "model_name": "LayoutModel",
          "model_module_version": "1.2.0",
          "state": {
            "_model_module": "@jupyter-widgets/base",
            "_model_module_version": "1.2.0",
            "_model_name": "LayoutModel",
            "_view_count": null,
            "_view_module": "@jupyter-widgets/base",
            "_view_module_version": "1.2.0",
            "_view_name": "LayoutView",
            "align_content": null,
            "align_items": null,
            "align_self": null,
            "border": null,
            "bottom": null,
            "display": null,
            "flex": null,
            "flex_flow": null,
            "grid_area": null,
            "grid_auto_columns": null,
            "grid_auto_flow": null,
            "grid_auto_rows": null,
            "grid_column": null,
            "grid_gap": null,
            "grid_row": null,
            "grid_template_areas": null,
            "grid_template_columns": null,
            "grid_template_rows": null,
            "height": null,
            "justify_content": null,
            "justify_items": null,
            "left": null,
            "margin": null,
            "max_height": null,
            "max_width": null,
            "min_height": null,
            "min_width": null,
            "object_fit": null,
            "object_position": null,
            "order": null,
            "overflow": null,
            "overflow_x": null,
            "overflow_y": null,
            "padding": null,
            "right": null,
            "top": null,
            "visibility": null,
            "width": null
          }
        },
        "5a8caef2634842228d42fffdc06ec426": {
          "model_module": "@jupyter-widgets/controls",
          "model_name": "ProgressStyleModel",
          "model_module_version": "1.5.0",
          "state": {
            "_model_module": "@jupyter-widgets/controls",
            "_model_module_version": "1.5.0",
            "_model_name": "ProgressStyleModel",
            "_view_count": null,
            "_view_module": "@jupyter-widgets/base",
            "_view_module_version": "1.2.0",
            "_view_name": "StyleView",
            "bar_color": null,
            "description_width": ""
          }
        },
        "751ed76bade84114b90f74db12705bfd": {
          "model_module": "@jupyter-widgets/base",
          "model_name": "LayoutModel",
          "model_module_version": "1.2.0",
          "state": {
            "_model_module": "@jupyter-widgets/base",
            "_model_module_version": "1.2.0",
            "_model_name": "LayoutModel",
            "_view_count": null,
            "_view_module": "@jupyter-widgets/base",
            "_view_module_version": "1.2.0",
            "_view_name": "LayoutView",
            "align_content": null,
            "align_items": null,
            "align_self": null,
            "border": null,
            "bottom": null,
            "display": null,
            "flex": null,
            "flex_flow": null,
            "grid_area": null,
            "grid_auto_columns": null,
            "grid_auto_flow": null,
            "grid_auto_rows": null,
            "grid_column": null,
            "grid_gap": null,
            "grid_row": null,
            "grid_template_areas": null,
            "grid_template_columns": null,
            "grid_template_rows": null,
            "height": null,
            "justify_content": null,
            "justify_items": null,
            "left": null,
            "margin": null,
            "max_height": null,
            "max_width": null,
            "min_height": null,
            "min_width": null,
            "object_fit": null,
            "object_position": null,
            "order": null,
            "overflow": null,
            "overflow_x": null,
            "overflow_y": null,
            "padding": null,
            "right": null,
            "top": null,
            "visibility": null,
            "width": null
          }
        },
        "c4cb2e83480e452f82b9935602d4cb2e": {
          "model_module": "@jupyter-widgets/controls",
          "model_name": "DescriptionStyleModel",
          "model_module_version": "1.5.0",
          "state": {
            "_model_module": "@jupyter-widgets/controls",
            "_model_module_version": "1.5.0",
            "_model_name": "DescriptionStyleModel",
            "_view_count": null,
            "_view_module": "@jupyter-widgets/base",
            "_view_module_version": "1.2.0",
            "_view_name": "StyleView",
            "description_width": ""
          }
        }
      }
    }
  },
  "cells": [
    {
      "cell_type": "markdown",
      "metadata": {
        "id": "view-in-github",
        "colab_type": "text"
      },
      "source": [
        "<a href=\"https://colab.research.google.com/github/LM1997610/NeuralNetworks/blob/main/ARIS_hw_(1).ipynb\" target=\"_parent\"><img src=\"https://colab.research.google.com/assets/colab-badge.svg\" alt=\"Open In Colab\"/></a>"
      ]
    },
    {
      "cell_type": "code",
      "source": [
        "! pip -q install powerlaw"
      ],
      "metadata": {
        "id": "eLHtKBmkZqdL"
      },
      "execution_count": 1,
      "outputs": []
    },
    {
      "cell_type": "code",
      "execution_count": 2,
      "metadata": {
        "id": "eml__lsLclL6"
      },
      "outputs": [],
      "source": [
        "import os\n",
        "import sys\n",
        "import random\n",
        "import numpy as np\n",
        "import networkx as nx\n",
        "from tqdm.auto import tqdm\n",
        "import matplotlib.pyplot as plt\n",
        "\n",
        "import powerlaw as pwl"
      ]
    },
    {
      "cell_type": "markdown",
      "source": [
        "## 1) The Barabassi-Albert Preferential Attachment Model:\n",
        "\n",
        "Generalization of the model where a node is selected at time $ t+1 $ with probability that is proportional to its degree plus a constant $c$,\\\n",
        "Node *u* is selected with probability:\n",
        "\n",
        "$$ \\frac{{d_u + c}}{{\\sum\\limits_{\\substack{w \\in V_{t-1}}}(d_w + c)}} = \\frac{{d_u +c}}{{(t-1)(2\\ell +c)}}$$\n",
        "\n",
        "\n"
      ],
      "metadata": {
        "id": "WLPf2qyrF3-m"
      }
    },
    {
      "cell_type": "markdown",
      "source": [
        "Need to define:\n",
        "- $ nk(t) $: mean number of nodes at time $t$ with degree $k$\n",
        "- $ pk(t) = \\frac{n_k(t)}{t} $: mean ratio of nodes at time t with degree $k$ <br/><br/>\n",
        "\n",
        "For $ k > \\ell $ we have:\n",
        "\n",
        "$$ n_k(t+1)=n_k(t)+n_{k-1}(t)\\frac{k+c-1}{(2\\ell+c)t}\\ell -n_k(t) \\frac{k+c}{(2\\ell+c)t}\\ell $$\n",
        "<br/><br/>\n",
        "$$ (t+1)p_k(t+1)=t p_k(t) +p_{k-1}(t)\\frac{k+c-1}{2\\ell+c}\\ell -p_k(t)\\frac{k+c}{2\\ell+c}\\ell $$\n",
        "\n",
        "From which we get:\n",
        "\n",
        "$$ p_k = p_{k-1} \\frac{k-1+c}{k+2+c+c/ℓ} $$\n",
        "\n",
        "For $ k = \\ell $:\n",
        "\n",
        "$$ p_{\\ell} = \\frac{2+c/ℓ}{\\ell+2+c+c/ℓ} $$\n",
        "\n",
        "Bringing them together for $ k \\ge \\ell $:\n",
        "\n",
        "$$ p_k = \\frac{2+c/ℓ}{(k+2+c+c/ℓ)} \\frac{\\ell+c}{(k+3+c+c/ℓ)} \\frac{\\ell+c+1}{(k+4+c+c/ℓ)}  $$\n",
        "<br/><br/>\n",
        "This shows that the degree distribution when t → ∞ is approximately a power law with exponent $3 + c/ℓ $\n"
      ],
      "metadata": {
        "id": "h0CuPj7kUNhD"
      }
    },
    {
      "cell_type": "code",
      "source": [
        "G = nx.MultiDiGraph()\n",
        "\n",
        "G.add_node('0')\n",
        "G.add_node('1')\n",
        "\n",
        "G.add_edge('0', '1'); G.add_edge('0', '1')\n",
        "G.add_edge('1', '0'); G.add_edge('1', '0')\n",
        "\n",
        "pos = nx.spring_layout(G)\n",
        "\n",
        "plt.figure(figsize=(2, 2))\n",
        "\n",
        "nx.draw(G, pos, with_labels=True, connectionstyle='arc3, rad = 0.1')\n",
        "\n",
        "plt.show()"
      ],
      "metadata": {
        "colab": {
          "base_uri": "https://localhost:8080/",
          "height": 237
        },
        "id": "CG50cv_ef2TT",
        "outputId": "6b2c70f0-f143-4b78-9739-030a79457f7b"
      },
      "execution_count": 3,
      "outputs": [
        {
          "output_type": "display_data",
          "data": {
            "text/plain": [
              "<Figure size 200x200 with 1 Axes>"
            ],
            "image/png": "[encoded data removed]"
          },
          "metadata": {}
        }
      ]
    },
    {
      "cell_type": "code",
      "source": [
        "def prob_each_node(graph, time, l=4, c=0):\n",
        "\n",
        "  degrees = dict(graph.degree())\n",
        "  denominator = (time - 1)*(2*l + c)\n",
        "  my_prob_list = [(x+c)/denominator for x in list(degrees.values())]\n",
        "\n",
        "  return my_prob_list"
      ],
      "metadata": {
        "id": "NobpQ5tEhEJz"
      },
      "execution_count": 4,
      "outputs": []
    },
    {
      "cell_type": "code",
      "source": [
        "c = 7\n",
        "l = 4\n",
        "\n",
        "times = range(2, 10000)\n",
        "\n",
        "for t in tqdm(times):\n",
        "\n",
        "  G.add_node(t)\n",
        "  prob_vector = prob_each_node(G, time=t, l=l, c=c)\n",
        "  selected_nodes = random.choices(list(G.nodes()), weights=prob_vector, k=4)\n",
        "\n",
        "  for node in selected_nodes:\n",
        "    G.add_edge(t, node)\n"
      ],
      "metadata": {
        "colab": {
          "base_uri": "https://localhost:8080/",
          "height": 49,
          "referenced_widgets": [
            "1c46a12a19164de89a486b1bd48a0783",
            "1d82fd9a46ce407db4b6c06c69c1619e",
            "8a95c081be404938a892fbc7f0c50acc",
            "e5a73ee3ca714a55a504c4c7523fc5af",
            "04902c1c87474db39a65f7ddcc6ccd0f",
            "ca82a558fd7444d7aa84678843fc3b87",
            "381f7c8118724ffa8f50f9d8706ce96a",
            "95816f17db594101b82fd529babe7a20",
            "d60ec143b21f46a1bb88a0173518689e",
            "959e756ce7914f12b3a1caca00ae39ed",
            "5a06d58c25e14f5aa570022005999863"
          ]
        },
        "id": "_g9GyrWWjVBo",
        "outputId": "bfa6e4d7-3a3f-464e-ee7d-d6ee3931869b"
      },
      "execution_count": 5,
      "outputs": [
        {
          "output_type": "display_data",
          "data": {
            "text/plain": [
              "  0%|          | 0/9998 [00:00<?, ?it/s]"
            ],
            "application/vnd.jupyter.widget-view+json": {
              "version_major": 2,
              "version_minor": 0,
              "model_id": "1c46a12a19164de89a486b1bd48a0783"
            }
          },
          "metadata": {}
        }
      ]
    },
    {
      "cell_type": "code",
      "source": [
        "degree_distrib = nx.degree_histogram(G)\n",
        "nodes = [i for i in range(0, len(degree_distrib))]\n",
        "\n",
        "degree_distrib = [degree_distrib[i]/G.number_of_nodes() for i in range(len(degree_distrib))]"
      ],
      "metadata": {
        "id": "nUwW1YMRc-h8"
      },
      "execution_count": 6,
      "outputs": []
    },
    {
      "cell_type": "code",
      "source": [
        "fig, (ax1, ax2) = plt.subplots(1, 2,figsize=(12, 3))\n",
        "\n",
        "ax1.plot(nodes[l:50], degree_distrib[l:50], '-', linewidth=2.5)\n",
        "ax1.set_title('\\n Degree Distribution\\n')\n",
        "ax1.set_xlabel('Degree\\n')\n",
        "ax1.set_ylabel('Number of Nodes\\n')\n",
        "ax1.grid()\n",
        "\n",
        "ax2.plot(nodes, degree_distrib, 'o', markersize=3.5, color='green')\n",
        "ax2.set_title('\\n Degree Distribution (log-log scale)\\n')\n",
        "ax2.set_xlabel('Degree\\n(log scale)')\n",
        "ax2.set_ylabel('Number of Nodes\\n(log scale)')\n",
        "ax2.set_xscale(\"log\"); ax2.set_yscale(\"log\")\n",
        "ax2.grid()\n",
        "\n",
        "plt.subplots_adjust(wspace=0.3)\n",
        "plt.show()"
      ],
      "metadata": {
        "colab": {
          "base_uri": "https://localhost:8080/",
          "height": 376
        },
        "id": "3-cm3NwYnL9h",
        "outputId": "656910af-3ee3-48a3-f8fa-8e2778f9f0df"
      },
      "execution_count": 7,
      "outputs": [
        {
          "output_type": "display_data",
          "data": {
            "text/plain": [
              "<Figure size 1200x300 with 2 Axes>"
            ],
            "image/png": "[encoded data removed]"
          },
          "metadata": {}
        }
      ]
    },
    {
      "cell_type": "code",
      "source": [
        "fit_function = pwl.Fit(list(dict(G.degree()).values()))\n",
        "\n",
        "round(fit_function.power_law.alpha,2), 3+c/l"
      ],
      "metadata": {
        "colab": {
          "base_uri": "https://localhost:8080/"
        },
        "id": "t66reqtY99gz",
        "outputId": "c382cc0b-0deb-43dd-d8e7-1300663ca8bb"
      },
      "execution_count": 8,
      "outputs": [
        {
          "output_type": "stream",
          "name": "stdout",
          "text": [
            "Calculating best minimal value for power law fit\n",
            "xmin progress: 00%\rxmin progress: 01%\rxmin progress: 03%\rxmin progress: 04%\rxmin progress: 06%\rxmin progress: 07%\rxmin progress: 09%\rxmin progress: 10%\rxmin progress: 12%\rxmin progress: 13%\rxmin progress: 15%\rxmin progress: 16%\rxmin progress: 18%\rxmin progress: 19%\rxmin progress: 21%\rxmin progress: 22%\rxmin progress: 24%\rxmin progress: 25%\rxmin progress: 27%\rxmin progress: 28%\rxmin progress: 30%\rxmin progress: 31%\rxmin progress: 33%\rxmin progress: 34%\rxmin progress: 36%\rxmin progress: 37%\rxmin progress: 39%\rxmin progress: 40%\rxmin progress: 42%\rxmin progress: 43%\rxmin progress: 45%\rxmin progress: 46%\rxmin progress: 48%\rxmin progress: 50%\rxmin progress: 51%\rxmin progress: 53%\rxmin progress: 54%\rxmin progress: 56%\rxmin progress: 57%\rxmin progress: 59%\rxmin progress: 60%\rxmin progress: 62%\rxmin progress: 63%\rxmin progress: 65%\rxmin progress: 66%\rxmin progress: 68%\rxmin progress: 69%\rxmin progress: 71%\rxmin progress: 72%\rxmin progress: 74%\rxmin progress: 75%\rxmin progress: 77%\rxmin progress: 78%\rxmin progress: 80%\rxmin progress: 81%\rxmin progress: 83%\rxmin progress: 84%\rxmin progress: 86%\rxmin progress: 87%\rxmin progress: 89%\rxmin progress: 90%\rxmin progress: 92%\rxmin progress: 93%\rxmin progress: 95%\rxmin progress: 96%\rxmin progress: 98%\r"
          ]
        },
        {
          "output_type": "execute_result",
          "data": {
            "text/plain": [
              "(4.16, 4.75)"
            ]
          },
          "metadata": {},
          "execution_count": 8
        }
      ]
    },
    {
      "cell_type": "markdown",
      "source": [
        "## 2) Densest subgraph, Minimum cut and Sparsest cut\n"
      ],
      "metadata": {
        "id": "PHfaajXd5q6f"
      }
    },
    {
      "cell_type": "code",
      "source": [
        "number_of_nodes = 10\n",
        "\n",
        "G = nx.Graph()\n",
        "G.add_nodes_from(range(1, number_of_nodes+1))\n",
        "\n",
        "edges = [(1, 2), (1, 3), (1, 4), (1,7),\n",
        "         (2, 3), (2, 4), (2,5),\n",
        "         (3, 4), (3,7),\n",
        "         (4, 5),\n",
        "         (5, 6), (5,9),\n",
        "         (6, 8), (6, 9), (6, 10),\n",
        "         (7, 8), (7, 10),\n",
        "         (8, 9), (8, 10),\n",
        "         (9, 10)]                 #(11,3), (12,11), (11,8), (1,12),(11,9)]\n",
        "\n",
        "G.add_edges_from(edges)\n",
        "\n",
        "fixed_positions = {1:(2.0, 5.5), 2:(3.1, 5.1), 3:(1.2, 4.1), 4:(2.3, 3.7), 5:(3.5, 3.7),\n",
        "                   6:(3.5, 2.0), 7:(1.5, 2.0), 8:(2.5, 1.3), 9:(4.0, 0.5), 10:(3.0, 0)}\n",
        "\n",
        "fixed_nodes = fixed_positions.keys()\n",
        "pos = nx.spring_layout(G, pos=fixed_positions, fixed = fixed_positions.keys())\n",
        "\n",
        "fig, ax = plt.subplots(figsize=(5,4))\n",
        "\n",
        "nx.draw(G, with_labels=True, ax=ax, pos=pos,\n",
        "        node_color='skyblue', font_color='black', font_weight='bold', font_size=12, node_size=500)"
      ],
      "metadata": {
        "id": "WDPSXOHQ5xjB",
        "colab": {
          "base_uri": "https://localhost:8080/",
          "height": 345
        },
        "outputId": "d5aa76fe-0c67-45c1-f1d4-65451ac3e5f3"
      },
      "execution_count": 9,
      "outputs": [
        {
          "output_type": "display_data",
          "data": {
            "text/plain": [
              "<Figure size 500x400 with 1 Axes>"
            ],
            "image/png": "[encoded data removed]"
          },
          "metadata": {}
        }
      ]
    },
    {
      "cell_type": "code",
      "source": [
        "d_distrib = dict(G.degree())\n",
        "\n",
        "print(f\"Degree distribution: {d_distrib }\")"
      ],
      "metadata": {
        "colab": {
          "base_uri": "https://localhost:8080/"
        },
        "id": "A-QZy7eLWJcJ",
        "outputId": "50baed60-c591-471a-982f-018e2f30b7c1"
      },
      "execution_count": 10,
      "outputs": [
        {
          "output_type": "stream",
          "name": "stdout",
          "text": [
            "Degree distribution: {1: 4, 2: 4, 3: 4, 4: 4, 5: 4, 6: 4, 7: 4, 8: 4, 9: 4, 10: 4}\n"
          ]
        }
      ]
    },
    {
      "cell_type": "code",
      "source": [
        "def GreedyDensestSubgraph(Graph):\n",
        "\n",
        "    print(f\"Nodes in G: {set(G.nodes())}\\n\")\n",
        "\n",
        "    S = set(Graph.nodes())\n",
        "    sub_graph = set(Graph.nodes())\n",
        "\n",
        "    while len(S) > 1:\n",
        "\n",
        "        v_node = min(S, key=lambda v: Graph.subgraph(S).degree(v))\n",
        "\n",
        "        S.remove(v_node)\n",
        "\n",
        "        density_S = len(Graph.subgraph(S).edges()) / len(S)\n",
        "        density_subgraph = len(Graph.subgraph(sub_graph).edges()) / len(sub_graph)\n",
        "\n",
        "        if density_S >= density_subgraph:\n",
        "          sub_graph = set(S)\n",
        "          print(f\" removed node: {str(v_node)}\")\n",
        "\n",
        "    print(f\"\\nDensest SubGraph: {sub_graph}\")\n",
        "    return sub_graph"
      ],
      "metadata": {
        "id": "D7TDNjIAGFgO"
      },
      "execution_count": 11,
      "outputs": []
    },
    {
      "cell_type": "code",
      "source": [
        "densest_sgraph = GreedyDensestSubgraph(G)"
      ],
      "metadata": {
        "colab": {
          "base_uri": "https://localhost:8080/"
        },
        "id": "HWpQPh9TMIud",
        "outputId": "35bcd3e7-4b86-4588-9263-e20714e5999d"
      },
      "execution_count": 12,
      "outputs": [
        {
          "output_type": "stream",
          "name": "stdout",
          "text": [
            "Nodes in G: {1, 2, 3, 4, 5, 6, 7, 8, 9, 10}\n",
            "\n",
            "\n",
            "Densest SubGraph: {1, 2, 3, 4, 5, 6, 7, 8, 9, 10}\n"
          ]
        }
      ]
    },
    {
      "cell_type": "code",
      "source": [
        "adj_matrix = nx.to_numpy_array(G)\n",
        "\n",
        "print(f'Adjacency matrix A -> shape={adj_matrix.shape}:\\n')\n",
        "print(f'{adj_matrix}')"
      ],
      "metadata": {
        "colab": {
          "base_uri": "https://localhost:8080/"
        },
        "id": "j7GzFu6YZ0Lm",
        "outputId": "ee7a992f-75b4-4fa3-e744-6809b8cfd452"
      },
      "execution_count": 13,
      "outputs": [
        {
          "output_type": "stream",
          "name": "stdout",
          "text": [
            "Adjacency matrix A -> shape=(10, 10):\n",
            "\n",
            "[[0. 1. 1. 1. 0. 0. 1. 0. 0. 0.]\n",
            " [1. 0. 1. 1. 1. 0. 0. 0. 0. 0.]\n",
            " [1. 1. 0. 1. 0. 0. 1. 0. 0. 0.]\n",
            " [1. 1. 1. 0. 1. 0. 0. 0. 0. 0.]\n",
            " [0. 1. 0. 1. 0. 1. 0. 0. 1. 0.]\n",
            " [0. 0. 0. 0. 1. 0. 0. 1. 1. 1.]\n",
            " [1. 0. 1. 0. 0. 0. 0. 1. 0. 1.]\n",
            " [0. 0. 0. 0. 0. 1. 1. 0. 1. 1.]\n",
            " [0. 0. 0. 0. 1. 1. 0. 1. 0. 1.]\n",
            " [0. 0. 0. 0. 0. 1. 1. 1. 1. 0.]]\n"
          ]
        }
      ]
    },
    {
      "cell_type": "code",
      "source": [
        "def Sparsest_Cut(A_matrix, grafo=False):\n",
        "\n",
        "  D = np.eye(A_matrix.shape[0])\n",
        "\n",
        "  normalized_laplacian_matrix = D - A_matrix/4  # L = I − 1/d * A\n",
        "\n",
        "  eigenvalues, eigenvectors = np.linalg.eig(normalized_laplacian_matrix)\n",
        "  vector = eigenvectors[:,1]\n",
        "\n",
        "  sorted_indices = np.argsort(vector)\n",
        "  sorted_values = vector[sorted_indices]\n",
        "\n",
        "  c_one = [sorted_indices[x] for x in range(len(sorted_indices)) if sorted_values[x] > 0]\n",
        "  c_two = [sorted_indices[x] for x in range(len(sorted_indices)) if sorted_values[x] < 0]\n",
        "\n",
        "  # --- Cheeger’s inequality --- #\n",
        "\n",
        "  lambda_2 = eigenvalues[1]\n",
        "\n",
        "  conductance = nx.conductance(grafo, S=c_one, T=c_two)\n",
        "\n",
        "  if (lambda_2/2 <= conductance) and (conductance <= np.sqrt(lambda_2*2)):\n",
        "\n",
        "    print(\"Cheeger’s inequality holds:\", end = \" \")\n",
        "    print(f\"{np.round(lambda_2/2, 3).real} <= {conductance} <= {np.round(np.sqrt(lambda_2*2), 3).real}\")\n",
        "\n",
        "  return c_one, c_two"
      ],
      "metadata": {
        "id": "SkApcXW0P1Uz"
      },
      "execution_count": 14,
      "outputs": []
    },
    {
      "cell_type": "code",
      "source": [
        "c1, c2 = Sparsest_Cut(adj_matrix, grafo = G)"
      ],
      "metadata": {
        "colab": {
          "base_uri": "https://localhost:8080/"
        },
        "id": "yX8lUzJHP-uc",
        "outputId": "b36baed0-47ab-4e7b-ef96-220fda42f5c9"
      },
      "execution_count": 15,
      "outputs": [
        {
          "output_type": "stream",
          "name": "stdout",
          "text": [
            "Cheeger’s inequality holds: 0.625 <= 0.875 <= 1.581\n"
          ]
        }
      ]
    },
    {
      "cell_type": "code",
      "source": [
        "fig, ax = plt.subplots()\n",
        "\n",
        "nodi_1 = [x+1 for x in c1]\n",
        "nodi_2 = [x+1 for x in c2]\n",
        "\n",
        "#pos = nx.spring_layout(G)\n",
        "nx.draw_networkx_nodes(G, nodelist = nodi_1, node_size=750, alpha = 0.15, node_color='green', pos = pos)\n",
        "nx.draw_networkx_nodes(G, nodelist = nodi_2, node_size=750, alpha = 0.15, node_color='blue', pos = pos)\n",
        "\n",
        "nx.draw_networkx_edges(G, edgelist= [(u,v) for u,v in G.edges(nodi_1)], edge_color = \"black\", alpha=0.85, pos=pos)\n",
        "nx.draw_networkx_edges(G, edgelist= [(u,v) for u,v in G.edges(nodi_2)], edge_color = \"red\", pos=pos)\n",
        "text = nx.draw_networkx_labels(G, pos, font_size=12, font_color='black', font_weight='bold')\n",
        "\n",
        "_ = ax.axis('off')"
      ],
      "metadata": {
        "colab": {
          "base_uri": "https://localhost:8080/",
          "height": 406
        },
        "id": "iLA2n7H_gxR2",
        "outputId": "a01f3a50-2467-4be1-a125-8372515760cc"
      },
      "execution_count": 16,
      "outputs": [
        {
          "output_type": "display_data",
          "data": {
            "text/plain": [
              "<Figure size 640x480 with 1 Axes>"
            ],
            "image/png": "[encoded data removed]"
          },
          "metadata": {}
        }
      ]
    },
    {
      "cell_type": "code",
      "source": [],
      "metadata": {
        "id": "sfvcnLya1c8z"
      },
      "execution_count": 16,
      "outputs": []
    },
    {
      "cell_type": "markdown",
      "source": [
        "## 3) Friendship paradox:\n",
        "\n",
        "An interesting phenomenon in **social networks** is\n",
        "that a random person’s expected degree is smaller than the degree of her peers:\n",
        "\n",
        "` Your friends are more popular than you are!`\n",
        "\n",
        "Given an undirected graph $G = (V,E)$:\n",
        "\n",
        "Let $X$ be a random variable representing the degree of a randomly selected node in the graph\\\n",
        "and $Y$ be a random variable representing the average degree of its neighbors.\n",
        "\n"
      ],
      "metadata": {
        "id": "2QeoBJlFq63i"
      }
    },
    {
      "cell_type": "markdown",
      "source": [
        "Prove that $𝐸[𝑋]≤𝐸[𝑌]$ :\n",
        "\n",
        "The expected value of $X$ is:\n",
        "$$ \\mu =  E[X] = \\frac{1}{|V|} \\sum_{i\\in V} d_i = \\frac{2|E|}{|V|} $$\n",
        "\n",
        "Where the *sum of the degrees of all nodes* equals twice the number of edges in the graph.\\\n",
        "While its variance:\n",
        "\n",
        "$$ \\sigma_X^2 =\\sum_{i\\in V}(d_i- \\mu)^2 \\frac{1}{|V|} =  \n",
        "\\frac{1}{|V|} \\sum_{i\\in V}(d_i^2 -2\\mu d_i +\\mu^2) $$\n",
        "\n",
        "$$ = \\frac{1}{|V|} \\left[\\sum_{i}d_i^2 -4\\mu\\text{|E|} + \\mu^2|V|\\right] =$$\n",
        "\n",
        "$$  = \\frac{\\sum_{i}d_i^2}{|V|} -2\\mu \\frac{2|E|}{|V|} + \\mu^2 = $$\n",
        "$$ = \\frac{\\sum_{i}d_i^2}{|V|}  -2\\mu^2 + \\mu^2 = \\frac{\\sum_{i}d_i^2}{|V|}- \\mu^2 = \\sigma_X^2 $$\n",
        "\n",
        "\n",
        "And expected value $E[Y]$ is:\n",
        "\n",
        "$$ \\mu_Y = E[Y] = \\frac{1}{2|E|} \\sum_{i\\in V}  \\sum_{j \\in S_i} d_j = \\frac{1}{2|E|} \\sum_{i\\in V} d_i^2 $$\n",
        "\n",
        "From the variance formula above we have: $ \\sum\\limits_{i=1}^{|V|}d_i^2 = (\\sigma_X^2+\\mu^2)|V| $ so we can rewrite:\n",
        "\n",
        "$$  \\mu_Y = E[Y] = \\frac{(\\sigma_X^2+\\mu^2)|V|}{2|E|} = \\frac{(\\sigma_X^2+\\mu^2)}{\\mu} = \\mu + \\frac{\\sigma_X^2}{\\mu} $$\n",
        "\n",
        "This proves that:\n",
        "\n",
        "$$ \\ \\mu \\leq \\mu + \\frac{\\sigma_X^2}{\\mu} = \\mu_Y $$\n"
      ],
      "metadata": {
        "id": "2bmXoftvuv67"
      }
    },
    {
      "cell_type": "markdown",
      "source": [
        "We have that $ E[X] = E[Y] $ when $ \\frac{\\sigma^2}{\\mu} = 0 $\\\n",
        "In this case the graph would be regular connected, this means that each node has same degree of its neighboring nodes"
      ],
      "metadata": {
        "id": "nYUltRozThj4"
      }
    },
    {
      "cell_type": "markdown",
      "source": [
        "## 4)  Streaming Algorithm for Graph Connectivity:\n",
        "\n",
        "A graph arrives as a stream of edges $ \\mathcal{E} = e_1, e_2, ...$.\\\n",
        "Exactly one edge arrives at a time, with edge $e_i$ arriving at time $i$. Each edge $e_i$ consists on a pair of vertices $(u, v)$.\n",
        "\n",
        "According to the **sliding window model** at each time $t$ only the $w$\n",
        "most recent edges are considered active,  where $w$ is the window size.\\\n",
        "The graph that consists of the **active edges** at time $t$, given a window length $w$, is denoted with $ G(t,w) = (V,E(t,w)) $\n",
        "\n"
      ],
      "metadata": {
        "id": "mhWBBEOUFszZ"
      }
    },
    {
      "cell_type": "markdown",
      "source": [
        "To monitor the connectivity of the graph $G(t,w)$ I use a set of edges $C$ that represent a minimum path that connects all the nodes.\n",
        "\n",
        "The tree defined by the edges in $C$ must remain **acyclic** at all times and should always consider the most recent edges arrived.\n",
        "\n",
        "When a new edge arrives, I insert it into $C$ in any case and verify if it forms a cycle within $C$.\\\n",
        "If a cycle is detected, I remove the **oldest edge** from this cycle.\\\n",
        "To determine which edge is the oldest I need to keep records of the arrival timestamps of the edges in my set.\n",
        "\n",
        "**To decide if the graph is connected**:\\\n",
        "After receiving a new edge at time $t+1$, the graph $G(t+1,w)$ is connected if, upon adding the edge to set $C$ as described above,\\\n",
        "there are no edges in $C$ with arrival timestamps older than $(t+1)-w$.\n",
        "\n",
        "To check if a new edge closes a loop I used **DFS**"
      ],
      "metadata": {
        "id": "NZW0PnZBFdtO"
      }
    },
    {
      "cell_type": "code",
      "source": [
        "from IPython.display import Image\n",
        "from collections import defaultdict\n",
        "\n",
        "from helper import check_add_edge, do_plot, do_gif"
      ],
      "metadata": {
        "id": "EYcw6SHa7j7T"
      },
      "execution_count": 17,
      "outputs": []
    },
    {
      "cell_type": "code",
      "source": [
        "folder_path = \"graph_status\"\n",
        "os.makedirs(folder_path, exist_ok=True)\n",
        "\n",
        "stream_edge = [(\"c\",\"e\"), (\"b\",\"d\"), (\"a\",\"c\"), (\"c\",\"b\"), (\"a\",\"b\"),\n",
        "                (\"c\",\"d\"), (\"d\",\"e\"), (\"b\",\"e\"), (\"b\",\"d\"), (\"c\",\"e\")]"
      ],
      "metadata": {
        "id": "Sat9fFIKaOgz"
      },
      "execution_count": 18,
      "outputs": []
    },
    {
      "cell_type": "code",
      "source": [
        "F = []\n",
        "arrival_time = {}\n",
        "window_size = 7\n",
        "\n",
        "window = []\n",
        "is_disconnected = False\n",
        "\n",
        "times = range(0, 25)\n",
        "\n",
        "for t in tqdm(times):\n",
        "\n",
        "    if t < len(stream_edge):\n",
        "        new_edge = stream_edge[t]\n",
        "\n",
        "    else:\n",
        "        u = random.choice(\"abcdefg\")\n",
        "        v = random.choice(\"abcdefg\")\n",
        "        new_edge = (u,v)\n",
        "\n",
        "        while check_add_edge(u,v, F) == False:\n",
        "            u = random.choice(\"abcdefg\")\n",
        "            v = random.choice(\"abcdefg\")\n",
        "            new_edge = (u,v)\n",
        "\n",
        "    #print(f\" t:{t+1} - arrived: {new_edge}\", end =\"\")\n",
        "    print(f\"\\r t:{t+1:>} - arrived: {new_edge}\", end=\"\", flush=True)\n",
        "\n",
        "    arrival_time[new_edge] = t\n",
        "    F = [new_edge] + F\n",
        "    window.append(new_edge)\n",
        "    cycle_path = has_cycle(F)\n",
        "\n",
        "    if cycle_path:\n",
        "\n",
        "        #print(f\"cycle: {cycle_path}\", end='')\n",
        "        edge_path = [(cycle_path[i], cycle_path[i+1]) for i in range(len(cycle_path) - 1)] + [(cycle_path[-1], cycle_path[0])]\n",
        "        loop = [t if t in F else (t[1], t[0]) for t in edge_path]\n",
        "\n",
        "        oldest_edge_time = min(arrival_time[key] for key in  loop)\n",
        "        oldest_edge = [key for key in  loop if arrival_time[key] == oldest_edge_time][0]\n",
        "        #print(f\" → removed: {oldest_edge} from t={oldest_edge_time}\")\n",
        "        #print(f\"\\r → removed: {oldest_edge} from t={oldest_edge_time}\", flush=True)\n",
        "\n",
        "        F.remove(oldest_edge)\n",
        "        arrival_time.pop(oldest_edge)\n",
        "\n",
        "    if len(window) > window_size: window.pop(0)\n",
        "\n",
        "    if t-window_size >= min(arrival_time.values()):\n",
        "        is_disconnected = True\n",
        "        print(f\" -> Disconnected! ({t-window_size:>2},{min(arrival_time.values())})\")\n",
        "        #print(\"\\tis Disconnected !\", t - window_size+1, min(arrival_time.values()))\n",
        "\n",
        "    do_plot(F, window, t+1,folder_path, discon = is_disconnected)\n",
        "\n",
        "do_gif(folder_path, times)\n"
      ],
      "metadata": {
        "colab": {
          "base_uri": "https://localhost:8080/",
          "height": 1000,
          "referenced_widgets": [
            "8636c7f4a1604ad6bfa1336e245814d8",
            "7304453286ba449ba2b444d0d0bddba4",
            "52aaf80fa76a46a2b4768200c0bced6e",
            "a973a127725c4acda7cafd2d1ff60243",
            "2d247ceef3aa4c3db6b7db2b9f259df2",
            "f2136d012e0a43d896eb835fa58a67d6",
            "b77930e941e647c18f1fcaffc1602c9b",
            "f45f1d42b53d4025851f15c2209de50f",
            "5a8caef2634842228d42fffdc06ec426",
            "751ed76bade84114b90f74db12705bfd",
            "c4cb2e83480e452f82b9935602d4cb2e"
          ]
        },
        "id": "UzftgYIA7WFc",
        "outputId": "9113b033-18d5-46c8-90ad-7ca5350d70a1"
      },
      "execution_count": 21,
      "outputs": [
        {
          "output_type": "display_data",
          "data": {
            "text/plain": [
              "  0%|          | 0/25 [00:00<?, ?it/s]"
            ],
            "application/vnd.jupyter.widget-view+json": {
              "version_major": 2,
              "version_minor": 0,
              "model_id": "8636c7f4a1604ad6bfa1336e245814d8"
            }
          },
          "metadata": {}
        },
        {
          "output_type": "stream",
          "name": "stdout",
          "text": [
            " t:6 - arrived: ('c', 'd')ERROEEE window 6\n",
            " t:7 - arrived: ('d', 'e')ERROEEE window 7\n",
            " t:8 - arrived: ('b', 'e')ERROEEE window 7\n",
            " t:9 - arrived: ('b', 'd')ERROEEE window 7\n",
            " t:10 - arrived: ('c', 'e')ERROEEE window 7\n",
            " t:11 - arrived: ('a', 'g')ERROEEE window 7\n",
            "ERROEEE edge 5 [('a', 'g'), ('c', 'e'), ('b', 'd'), ('b', 'e'), ('a', 'b')]\n"
          ]
        },
        {
          "output_type": "error",
          "ename": "NetworkXError",
          "evalue": "Node 'g' has no position.",
          "traceback": [
            "\u001b[0;31m---------------------------------------------------------------------------\u001b[0m",
            "\u001b[0;31mKeyError\u001b[0m                                  Traceback (most recent call last)",
            "\u001b[0;32m/usr/local/lib/python3.10/dist-packages/networkx/drawing/nx_pylab.py\u001b[0m in \u001b[0;36mdraw_networkx_nodes\u001b[0;34m(G, pos, nodelist, node_size, node_color, node_shape, alpha, cmap, vmin, vmax, ax, linewidths, edgecolors, label, margins, hide_ticks)\u001b[0m\n\u001b[1;32m    441\u001b[0m     \u001b[0;32mtry\u001b[0m\u001b[0;34m:\u001b[0m\u001b[0;34m\u001b[0m\u001b[0;34m\u001b[0m\u001b[0m\n\u001b[0;32m--> 442\u001b[0;31m         \u001b[0mxy\u001b[0m \u001b[0;34m=\u001b[0m \u001b[0mnp\u001b[0m\u001b[0;34m.\u001b[0m\u001b[0masarray\u001b[0m\u001b[0;34m(\u001b[0m\u001b[0;34m[\u001b[0m\u001b[0mpos\u001b[0m\u001b[0;34m[\u001b[0m\u001b[0mv\u001b[0m\u001b[0;34m]\u001b[0m \u001b[0;32mfor\u001b[0m \u001b[0mv\u001b[0m \u001b[0;32min\u001b[0m \u001b[0mnodelist\u001b[0m\u001b[0;34m]\u001b[0m\u001b[0;34m)\u001b[0m\u001b[0;34m\u001b[0m\u001b[0;34m\u001b[0m\u001b[0m\n\u001b[0m\u001b[1;32m    443\u001b[0m     \u001b[0;32mexcept\u001b[0m \u001b[0mKeyError\u001b[0m \u001b[0;32mas\u001b[0m \u001b[0merr\u001b[0m\u001b[0;34m:\u001b[0m\u001b[0;34m\u001b[0m\u001b[0;34m\u001b[0m\u001b[0m\n",
            "\u001b[0;32m/usr/local/lib/python3.10/dist-packages/networkx/drawing/nx_pylab.py\u001b[0m in \u001b[0;36m<listcomp>\u001b[0;34m(.0)\u001b[0m\n\u001b[1;32m    441\u001b[0m     \u001b[0;32mtry\u001b[0m\u001b[0;34m:\u001b[0m\u001b[0;34m\u001b[0m\u001b[0;34m\u001b[0m\u001b[0m\n\u001b[0;32m--> 442\u001b[0;31m         \u001b[0mxy\u001b[0m \u001b[0;34m=\u001b[0m \u001b[0mnp\u001b[0m\u001b[0;34m.\u001b[0m\u001b[0masarray\u001b[0m\u001b[0;34m(\u001b[0m\u001b[0;34m[\u001b[0m\u001b[0mpos\u001b[0m\u001b[0;34m[\u001b[0m\u001b[0mv\u001b[0m\u001b[0;34m]\u001b[0m \u001b[0;32mfor\u001b[0m \u001b[0mv\u001b[0m \u001b[0;32min\u001b[0m \u001b[0mnodelist\u001b[0m\u001b[0;34m]\u001b[0m\u001b[0;34m)\u001b[0m\u001b[0;34m\u001b[0m\u001b[0;34m\u001b[0m\u001b[0m\n\u001b[0m\u001b[1;32m    443\u001b[0m     \u001b[0;32mexcept\u001b[0m \u001b[0mKeyError\u001b[0m \u001b[0;32mas\u001b[0m \u001b[0merr\u001b[0m\u001b[0;34m:\u001b[0m\u001b[0;34m\u001b[0m\u001b[0;34m\u001b[0m\u001b[0m\n",
            "\u001b[0;31mKeyError\u001b[0m: 'g'",
            "\nThe above exception was the direct cause of the following exception:\n",
            "\u001b[0;31mNetworkXError\u001b[0m                             Traceback (most recent call last)",
            "\u001b[0;32m<ipython-input-21-45fa2a3653a4>\u001b[0m in \u001b[0;36m<cell line: 10>\u001b[0;34m()\u001b[0m\n\u001b[1;32m     52\u001b[0m         \u001b[0;31m#print(\"\\tis Disconnected !\", t - window_size+1, min(arrival_time.values()))\u001b[0m\u001b[0;34m\u001b[0m\u001b[0;34m\u001b[0m\u001b[0m\n\u001b[1;32m     53\u001b[0m \u001b[0;34m\u001b[0m\u001b[0m\n\u001b[0;32m---> 54\u001b[0;31m     \u001b[0mdo_plot\u001b[0m\u001b[0;34m(\u001b[0m\u001b[0mF\u001b[0m\u001b[0;34m,\u001b[0m \u001b[0mwindow\u001b[0m\u001b[0;34m,\u001b[0m \u001b[0mt\u001b[0m\u001b[0;34m+\u001b[0m\u001b[0;36m1\u001b[0m\u001b[0;34m,\u001b[0m\u001b[0mfolder_path\u001b[0m\u001b[0;34m,\u001b[0m \u001b[0mdiscon\u001b[0m \u001b[0;34m=\u001b[0m \u001b[0mis_disconnected\u001b[0m\u001b[0;34m)\u001b[0m\u001b[0;34m\u001b[0m\u001b[0;34m\u001b[0m\u001b[0m\n\u001b[0m\u001b[1;32m     55\u001b[0m \u001b[0;34m\u001b[0m\u001b[0m\n\u001b[1;32m     56\u001b[0m \u001b[0mdo_gif\u001b[0m\u001b[0;34m(\u001b[0m\u001b[0mfolder_path\u001b[0m\u001b[0;34m,\u001b[0m \u001b[0mtimes\u001b[0m\u001b[0;34m)\u001b[0m\u001b[0;34m\u001b[0m\u001b[0;34m\u001b[0m\u001b[0m\n",
            "\u001b[0;32m/content/helper.py\u001b[0m in \u001b[0;36mdo_plot\u001b[0;34m(edge_list, window, time, folder_path, discon)\u001b[0m\n\u001b[1;32m     51\u001b[0m   \u001b[0;31m#pos = {\"a\":(4, 4), \"b\":(6, 4), \"c\":(3.4, 2.8), \"d\":(6, 1.5), \"e\":(5, 1), \"f\":(3.7, 1.2), \"g\": (6.5, 3)}\u001b[0m\u001b[0;34m\u001b[0m\u001b[0;34m\u001b[0m\u001b[0m\n\u001b[1;32m     52\u001b[0m \u001b[0;34m\u001b[0m\u001b[0m\n\u001b[0;32m---> 53\u001b[0;31m   \u001b[0mnx\u001b[0m\u001b[0;34m.\u001b[0m\u001b[0mdraw_networkx_nodes\u001b[0m\u001b[0;34m(\u001b[0m\u001b[0mG\u001b[0m\u001b[0;34m,\u001b[0m \u001b[0mnode_color\u001b[0m\u001b[0;34m=\u001b[0m\u001b[0;34m'white'\u001b[0m\u001b[0;34m,\u001b[0m \u001b[0mnode_size\u001b[0m\u001b[0;34m=\u001b[0m\u001b[0;36m250\u001b[0m\u001b[0;34m,\u001b[0m \u001b[0mpos\u001b[0m\u001b[0;34m=\u001b[0m\u001b[0mpos\u001b[0m\u001b[0;34m,\u001b[0m \u001b[0medgecolors\u001b[0m\u001b[0;34m=\u001b[0m\u001b[0;34m\"black\"\u001b[0m\u001b[0;34m)\u001b[0m\u001b[0;34m\u001b[0m\u001b[0;34m\u001b[0m\u001b[0m\n\u001b[0m\u001b[1;32m     54\u001b[0m   \u001b[0mnx\u001b[0m\u001b[0;34m.\u001b[0m\u001b[0mdraw_networkx_labels\u001b[0m\u001b[0;34m(\u001b[0m\u001b[0mG\u001b[0m\u001b[0;34m,\u001b[0m \u001b[0mpos\u001b[0m\u001b[0;34m,\u001b[0m \u001b[0mfont_size\u001b[0m\u001b[0;34m=\u001b[0m\u001b[0;36m14\u001b[0m\u001b[0;34m,\u001b[0m \u001b[0mfont_color\u001b[0m\u001b[0;34m=\u001b[0m\u001b[0;34m'black'\u001b[0m\u001b[0;34m,\u001b[0m \u001b[0mfont_weight\u001b[0m\u001b[0;34m=\u001b[0m\u001b[0;34m'bold'\u001b[0m\u001b[0;34m)\u001b[0m\u001b[0;34m\u001b[0m\u001b[0;34m\u001b[0m\u001b[0m\n\u001b[1;32m     55\u001b[0m \u001b[0;34m\u001b[0m\u001b[0m\n",
            "\u001b[0;32m/usr/local/lib/python3.10/dist-packages/networkx/drawing/nx_pylab.py\u001b[0m in \u001b[0;36mdraw_networkx_nodes\u001b[0;34m(G, pos, nodelist, node_size, node_color, node_shape, alpha, cmap, vmin, vmax, ax, linewidths, edgecolors, label, margins, hide_ticks)\u001b[0m\n\u001b[1;32m    442\u001b[0m         \u001b[0mxy\u001b[0m \u001b[0;34m=\u001b[0m \u001b[0mnp\u001b[0m\u001b[0;34m.\u001b[0m\u001b[0masarray\u001b[0m\u001b[0;34m(\u001b[0m\u001b[0;34m[\u001b[0m\u001b[0mpos\u001b[0m\u001b[0;34m[\u001b[0m\u001b[0mv\u001b[0m\u001b[0;34m]\u001b[0m \u001b[0;32mfor\u001b[0m \u001b[0mv\u001b[0m \u001b[0;32min\u001b[0m \u001b[0mnodelist\u001b[0m\u001b[0;34m]\u001b[0m\u001b[0;34m)\u001b[0m\u001b[0;34m\u001b[0m\u001b[0;34m\u001b[0m\u001b[0m\n\u001b[1;32m    443\u001b[0m     \u001b[0;32mexcept\u001b[0m \u001b[0mKeyError\u001b[0m \u001b[0;32mas\u001b[0m \u001b[0merr\u001b[0m\u001b[0;34m:\u001b[0m\u001b[0;34m\u001b[0m\u001b[0;34m\u001b[0m\u001b[0m\n\u001b[0;32m--> 444\u001b[0;31m         \u001b[0;32mraise\u001b[0m \u001b[0mnx\u001b[0m\u001b[0;34m.\u001b[0m\u001b[0mNetworkXError\u001b[0m\u001b[0;34m(\u001b[0m\u001b[0;34mf\"Node {err} has no position.\"\u001b[0m\u001b[0;34m)\u001b[0m \u001b[0;32mfrom\u001b[0m \u001b[0merr\u001b[0m\u001b[0;34m\u001b[0m\u001b[0;34m\u001b[0m\u001b[0m\n\u001b[0m\u001b[1;32m    445\u001b[0m \u001b[0;34m\u001b[0m\u001b[0m\n\u001b[1;32m    446\u001b[0m     \u001b[0;32mif\u001b[0m \u001b[0misinstance\u001b[0m\u001b[0;34m(\u001b[0m\u001b[0malpha\u001b[0m\u001b[0;34m,\u001b[0m \u001b[0mIterable\u001b[0m\u001b[0;34m)\u001b[0m\u001b[0;34m:\u001b[0m\u001b[0;34m\u001b[0m\u001b[0;34m\u001b[0m\u001b[0m\n",
            "\u001b[0;31mNetworkXError\u001b[0m: Node 'g' has no position."
          ]
        },
        {
          "output_type": "display_data",
          "data": {
            "text/plain": [
              "<Figure size 600x500 with 1 Axes>"
            ],
            "image/png": "[encoded data removed]"
          },
          "metadata": {}
        }
      ]
    },
    {
      "cell_type": "code",
      "source": [
        "Image(open('streaming_algorithm.gif','rb').read())"
      ],
      "metadata": {
        "id": "5wSDvBDJCK07"
      },
      "execution_count": null,
      "outputs": []
    },
    {
      "cell_type": "code",
      "source": [
        "def has_cycle(edges):\n",
        "\n",
        "    adj = defaultdict(set)\n",
        "    path = []\n",
        "    for x, y in edges:\n",
        "        adj[x].add(y)\n",
        "        adj[y].add(x)\n",
        "\n",
        "    col = defaultdict(int)\n",
        "    parent = {}\n",
        "\n",
        "    def dfs(x, p):\n",
        "        col[x] = 1\n",
        "        parent[x] = p\n",
        "\n",
        "        for y in adj[x]:\n",
        "            if col[y] == 0:\n",
        "                if dfs(y, x):\n",
        "                    return True\n",
        "            elif col[y] == 1 and parent[x] != y:\n",
        "                #print(f\"cycle found: {y} -> \", end='')\n",
        "                node = x\n",
        "                path.append(y)\n",
        "                while node != y:\n",
        "                    #print(f\"{node} -> \", end='')\n",
        "                    path.append(node)\n",
        "                    node = parent[node]\n",
        "                #print(f\"{y} |\", end='')\n",
        "                return path\n",
        "        col[x] = 2\n",
        "        return None\n",
        "\n",
        "    for x in adj:\n",
        "        if col[x] == 0:\n",
        "            if(dfs(x, None)) == True:\n",
        "                return path\n",
        "    return False\n",
        "\n"
      ],
      "metadata": {
        "id": "SciklGgZ8Bha"
      },
      "execution_count": 20,
      "outputs": []
    },
    {
      "cell_type": "code",
      "source": [],
      "metadata": {
        "id": "I-dF7ssy8G41"
      },
      "execution_count": null,
      "outputs": []
    },
    {
      "cell_type": "code",
      "source": [],
      "metadata": {
        "id": "csADVnkmY0ap"
      },
      "execution_count": null,
      "outputs": []
    },
    {
      "cell_type": "code",
      "source": [],
      "metadata": {
        "id": "n6vj43ZuY0cx"
      },
      "execution_count": null,
      "outputs": []
    },
    {
      "cell_type": "code",
      "source": [],
      "metadata": {
        "id": "ZTHT6jlFY0gK"
      },
      "execution_count": null,
      "outputs": []
    },
    {
      "cell_type": "markdown",
      "source": [
        "## 6) Graph Neural Networks:"
      ],
      "metadata": {
        "id": "FvSURh7NY0r2"
      }
    },
    {
      "cell_type": "code",
      "source": [
        "! pip -q install torch_geometric"
      ],
      "metadata": {
        "id": "Bm7UNQaPpZXY"
      },
      "execution_count": null,
      "outputs": []
    },
    {
      "cell_type": "code",
      "source": [
        "from collections import Counter\n",
        "from torch_geometric.datasets import Planetoid"
      ],
      "metadata": {
        "id": "WWQMbjX-yqLk"
      },
      "execution_count": null,
      "outputs": []
    },
    {
      "cell_type": "code",
      "source": [
        "dataset = Planetoid(root='/tmp/Pubmed', name='Pubmed', force_reload=True)\n",
        "graph = dataset[0]\n",
        "graph"
      ],
      "metadata": {
        "id": "XvsCHh-RyqO_"
      },
      "execution_count": null,
      "outputs": []
    },
    {
      "cell_type": "code",
      "source": [
        "print('Class distribution')\n",
        "sorted(Counter(graph.y.tolist()).items())"
      ],
      "metadata": {
        "id": "Phc5neK9yqUG"
      },
      "execution_count": null,
      "outputs": []
    },
    {
      "cell_type": "code",
      "source": [
        "graph.x.shape"
      ],
      "metadata": {
        "id": "fX1RX_hq7dY9"
      },
      "execution_count": null,
      "outputs": []
    },
    {
      "cell_type": "code",
      "source": [],
      "metadata": {
        "id": "YbvxExI7t3fD"
      },
      "execution_count": null,
      "outputs": []
    },
    {
      "cell_type": "code",
      "source": [],
      "metadata": {
        "id": "Jr6fBabzw4eY"
      },
      "execution_count": null,
      "outputs": []
    },
    {
      "cell_type": "code",
      "source": [],
      "metadata": {
        "id": "o9WzP3EEw4gU"
      },
      "execution_count": null,
      "outputs": []
    },
    {
      "cell_type": "code",
      "source": [],
      "metadata": {
        "id": "9gjBxfCAw4iW"
      },
      "execution_count": null,
      "outputs": []
    }
  ]
}