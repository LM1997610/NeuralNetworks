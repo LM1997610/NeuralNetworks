{
  "nbformat": 4,
  "nbformat_minor": 0,
  "metadata": {
    "colab": {
      "provenance": [],
      "collapsed_sections": [
        "WLPf2qyrF3-m"
      ],
      "include_colab_link": true
    },
    "kernelspec": {
      "name": "python3",
      "display_name": "Python 3"
    },
    "language_info": {
      "name": "python"
    },
    "widgets": {
      "application/vnd.jupyter.widget-state+json": {
        "9ad499c90f954b778f53cde0e201591d": {
          "model_module": "@jupyter-widgets/controls",
          "model_name": "HBoxModel",
          "model_module_version": "1.5.0",
          "state": {
            "_dom_classes": [],
            "_model_module": "@jupyter-widgets/controls",
            "_model_module_version": "1.5.0",
            "_model_name": "HBoxModel",
            "_view_count": null,
            "_view_module": "@jupyter-widgets/controls",
            "_view_module_version": "1.5.0",
            "_view_name": "HBoxView",
            "box_style": "",
            "children": [
              "IPY_MODEL_e6f3c00aa122470897c1b0a3c7e2a7ec",
              "IPY_MODEL_e2101dd3228147fb99e483189cebc1ed",
              "IPY_MODEL_97669d20dce94706ad4dd511e1547070"
            ],
            "layout": "IPY_MODEL_3a4532b64f39433485b32c17758618d8"
          }
        },
        "e6f3c00aa122470897c1b0a3c7e2a7ec": {
          "model_module": "@jupyter-widgets/controls",
          "model_name": "HTMLModel",
          "model_module_version": "1.5.0",
          "state": {
            "_dom_classes": [],
            "_model_module": "@jupyter-widgets/controls",
            "_model_module_version": "1.5.0",
            "_model_name": "HTMLModel",
            "_view_count": null,
            "_view_module": "@jupyter-widgets/controls",
            "_view_module_version": "1.5.0",
            "_view_name": "HTMLView",
            "description": "",
            "description_tooltip": null,
            "layout": "IPY_MODEL_9e9ccbac74f24ba09265ef182b1844c6",
            "placeholder": "​",
            "style": "IPY_MODEL_2a2489f42ab24cf8a595e9283532af5c",
            "value": "100%"
          }
        },
        "e2101dd3228147fb99e483189cebc1ed": {
          "model_module": "@jupyter-widgets/controls",
          "model_name": "FloatProgressModel",
          "model_module_version": "1.5.0",
          "state": {
            "_dom_classes": [],
            "_model_module": "@jupyter-widgets/controls",
            "_model_module_version": "1.5.0",
            "_model_name": "FloatProgressModel",
            "_view_count": null,
            "_view_module": "@jupyter-widgets/controls",
            "_view_module_version": "1.5.0",
            "_view_name": "ProgressView",
            "bar_style": "success",
            "description": "",
            "description_tooltip": null,
            "layout": "IPY_MODEL_1d08f776363447df84f01fde53f2b493",
            "max": 9998,
            "min": 0,
            "orientation": "horizontal",
            "style": "IPY_MODEL_dd78c12035ef49d7a947febd107df92e",
            "value": 9998
          }
        },
        "97669d20dce94706ad4dd511e1547070": {
          "model_module": "@jupyter-widgets/controls",
          "model_name": "HTMLModel",
          "model_module_version": "1.5.0",
          "state": {
            "_dom_classes": [],
            "_model_module": "@jupyter-widgets/controls",
            "_model_module_version": "1.5.0",
            "_model_name": "HTMLModel",
            "_view_count": null,
            "_view_module": "@jupyter-widgets/controls",
            "_view_module_version": "1.5.0",
            "_view_name": "HTMLView",
            "description": "",
            "description_tooltip": null,
            "layout": "IPY_MODEL_4a3e818fb7d74cde932a49b82c121367",
            "placeholder": "​",
            "style": "IPY_MODEL_eb5845eac026490fabd524e662b8a5e5",
            "value": " 9998/9998 [03:13&lt;00:00, 29.51it/s]"
          }
        },
        "3a4532b64f39433485b32c17758618d8": {
          "model_module": "@jupyter-widgets/base",
          "model_name": "LayoutModel",
          "model_module_version": "1.2.0",
          "state": {
            "_model_module": "@jupyter-widgets/base",
            "_model_module_version": "1.2.0",
            "_model_name": "LayoutModel",
            "_view_count": null,
            "_view_module": "@jupyter-widgets/base",
            "_view_module_version": "1.2.0",
            "_view_name": "LayoutView",
            "align_content": null,
            "align_items": null,
            "align_self": null,
            "border": null,
            "bottom": null,
            "display": null,
            "flex": null,
            "flex_flow": null,
            "grid_area": null,
            "grid_auto_columns": null,
            "grid_auto_flow": null,
            "grid_auto_rows": null,
            "grid_column": null,
            "grid_gap": null,
            "grid_row": null,
            "grid_template_areas": null,
            "grid_template_columns": null,
            "grid_template_rows": null,
            "height": null,
            "justify_content": null,
            "justify_items": null,
            "left": null,
            "margin": null,
            "max_height": null,
            "max_width": null,
            "min_height": null,
            "min_width": null,
            "object_fit": null,
            "object_position": null,
            "order": null,
            "overflow": null,
            "overflow_x": null,
            "overflow_y": null,
            "padding": null,
            "right": null,
            "top": null,
            "visibility": null,
            "width": null
          }
        },
        "9e9ccbac74f24ba09265ef182b1844c6": {
          "model_module": "@jupyter-widgets/base",
          "model_name": "LayoutModel",
          "model_module_version": "1.2.0",
          "state": {
            "_model_module": "@jupyter-widgets/base",
            "_model_module_version": "1.2.0",
            "_model_name": "LayoutModel",
            "_view_count": null,
            "_view_module": "@jupyter-widgets/base",
            "_view_module_version": "1.2.0",
            "_view_name": "LayoutView",
            "align_content": null,
            "align_items": null,
            "align_self": null,
            "border": null,
            "bottom": null,
            "display": null,
            "flex": null,
            "flex_flow": null,
            "grid_area": null,
            "grid_auto_columns": null,
            "grid_auto_flow": null,
            "grid_auto_rows": null,
            "grid_column": null,
            "grid_gap": null,
            "grid_row": null,
            "grid_template_areas": null,
            "grid_template_columns": null,
            "grid_template_rows": null,
            "height": null,
            "justify_content": null,
            "justify_items": null,
            "left": null,
            "margin": null,
            "max_height": null,
            "max_width": null,
            "min_height": null,
            "min_width": null,
            "object_fit": null,
            "object_position": null,
            "order": null,
            "overflow": null,
            "overflow_x": null,
            "overflow_y": null,
            "padding": null,
            "right": null,
            "top": null,
            "visibility": null,
            "width": null
          }
        },
        "2a2489f42ab24cf8a595e9283532af5c": {
          "model_module": "@jupyter-widgets/controls",
          "model_name": "DescriptionStyleModel",
          "model_module_version": "1.5.0",
          "state": {
            "_model_module": "@jupyter-widgets/controls",
            "_model_module_version": "1.5.0",
            "_model_name": "DescriptionStyleModel",
            "_view_count": null,
            "_view_module": "@jupyter-widgets/base",
            "_view_module_version": "1.2.0",
            "_view_name": "StyleView",
            "description_width": ""
          }
        },
        "1d08f776363447df84f01fde53f2b493": {
          "model_module": "@jupyter-widgets/base",
          "model_name": "LayoutModel",
          "model_module_version": "1.2.0",
          "state": {
            "_model_module": "@jupyter-widgets/base",
            "_model_module_version": "1.2.0",
            "_model_name": "LayoutModel",
            "_view_count": null,
            "_view_module": "@jupyter-widgets/base",
            "_view_module_version": "1.2.0",
            "_view_name": "LayoutView",
            "align_content": null,
            "align_items": null,
            "align_self": null,
            "border": null,
            "bottom": null,
            "display": null,
            "flex": null,
            "flex_flow": null,
            "grid_area": null,
            "grid_auto_columns": null,
            "grid_auto_flow": null,
            "grid_auto_rows": null,
            "grid_column": null,
            "grid_gap": null,
            "grid_row": null,
            "grid_template_areas": null,
            "grid_template_columns": null,
            "grid_template_rows": null,
            "height": null,
            "justify_content": null,
            "justify_items": null,
            "left": null,
            "margin": null,
            "max_height": null,
            "max_width": null,
            "min_height": null,
            "min_width": null,
            "object_fit": null,
            "object_position": null,
            "order": null,
            "overflow": null,
            "overflow_x": null,
            "overflow_y": null,
            "padding": null,
            "right": null,
            "top": null,
            "visibility": null,
            "width": null
          }
        },
        "dd78c12035ef49d7a947febd107df92e": {
          "model_module": "@jupyter-widgets/controls",
          "model_name": "ProgressStyleModel",
          "model_module_version": "1.5.0",
          "state": {
            "_model_module": "@jupyter-widgets/controls",
            "_model_module_version": "1.5.0",
            "_model_name": "ProgressStyleModel",
            "_view_count": null,
            "_view_module": "@jupyter-widgets/base",
            "_view_module_version": "1.2.0",
            "_view_name": "StyleView",
            "bar_color": null,
            "description_width": ""
          }
        },
        "4a3e818fb7d74cde932a49b82c121367": {
          "model_module": "@jupyter-widgets/base",
          "model_name": "LayoutModel",
          "model_module_version": "1.2.0",
          "state": {
            "_model_module": "@jupyter-widgets/base",
            "_model_module_version": "1.2.0",
            "_model_name": "LayoutModel",
            "_view_count": null,
            "_view_module": "@jupyter-widgets/base",
            "_view_module_version": "1.2.0",
            "_view_name": "LayoutView",
            "align_content": null,
            "align_items": null,
            "align_self": null,
            "border": null,
            "bottom": null,
            "display": null,
            "flex": null,
            "flex_flow": null,
            "grid_area": null,
            "grid_auto_columns": null,
            "grid_auto_flow": null,
            "grid_auto_rows": null,
            "grid_column": null,
            "grid_gap": null,
            "grid_row": null,
            "grid_template_areas": null,
            "grid_template_columns": null,
            "grid_template_rows": null,
            "height": null,
            "justify_content": null,
            "justify_items": null,
            "left": null,
            "margin": null,
            "max_height": null,
            "max_width": null,
            "min_height": null,
            "min_width": null,
            "object_fit": null,
            "object_position": null,
            "order": null,
            "overflow": null,
            "overflow_x": null,
            "overflow_y": null,
            "padding": null,
            "right": null,
            "top": null,
            "visibility": null,
            "width": null
          }
        },
        "eb5845eac026490fabd524e662b8a5e5": {
          "model_module": "@jupyter-widgets/controls",
          "model_name": "DescriptionStyleModel",
          "model_module_version": "1.5.0",
          "state": {
            "_model_module": "@jupyter-widgets/controls",
            "_model_module_version": "1.5.0",
            "_model_name": "DescriptionStyleModel",
            "_view_count": null,
            "_view_module": "@jupyter-widgets/base",
            "_view_module_version": "1.2.0",
            "_view_name": "StyleView",
            "description_width": ""
          }
        },
        "45486d69bc68476da54ae70660b12da3": {
          "model_module": "@jupyter-widgets/controls",
          "model_name": "HBoxModel",
          "model_module_version": "1.5.0",
          "state": {
            "_dom_classes": [],
            "_model_module": "@jupyter-widgets/controls",
            "_model_module_version": "1.5.0",
            "_model_name": "HBoxModel",
            "_view_count": null,
            "_view_module": "@jupyter-widgets/controls",
            "_view_module_version": "1.5.0",
            "_view_name": "HBoxView",
            "box_style": "",
            "children": [
              "IPY_MODEL_f62b7200e9e8471fab69f630d14c24b2",
              "IPY_MODEL_14a21fce799f4ebabdcbc08b0bed2f0a",
              "IPY_MODEL_d69bcb28e90642e397bdef883d86ce22"
            ],
            "layout": "IPY_MODEL_9c3bf85132254e0591edbf65612bcc16"
          }
        },
        "f62b7200e9e8471fab69f630d14c24b2": {
          "model_module": "@jupyter-widgets/controls",
          "model_name": "HTMLModel",
          "model_module_version": "1.5.0",
          "state": {
            "_dom_classes": [],
            "_model_module": "@jupyter-widgets/controls",
            "_model_module_version": "1.5.0",
            "_model_name": "HTMLModel",
            "_view_count": null,
            "_view_module": "@jupyter-widgets/controls",
            "_view_module_version": "1.5.0",
            "_view_name": "HTMLView",
            "description": "",
            "description_tooltip": null,
            "layout": "IPY_MODEL_1d6e92e2e0da4732a2cf8bee2fe1c21b",
            "placeholder": "​",
            "style": "IPY_MODEL_c02ec4df6f47436396039f3404a56951",
            "value": "  0%"
          }
        },
        "14a21fce799f4ebabdcbc08b0bed2f0a": {
          "model_module": "@jupyter-widgets/controls",
          "model_name": "FloatProgressModel",
          "model_module_version": "1.5.0",
          "state": {
            "_dom_classes": [],
            "_model_module": "@jupyter-widgets/controls",
            "_model_module_version": "1.5.0",
            "_model_name": "FloatProgressModel",
            "_view_count": null,
            "_view_module": "@jupyter-widgets/controls",
            "_view_module_version": "1.5.0",
            "_view_name": "ProgressView",
            "bar_style": "danger",
            "description": "",
            "description_tooltip": null,
            "layout": "IPY_MODEL_9c644910fc5e42fe94a6fc54ca5bd592",
            "max": 100,
            "min": 0,
            "orientation": "horizontal",
            "style": "IPY_MODEL_5b4d92d4bed5445fa5f367a1e0957939",
            "value": 0
          }
        },
        "d69bcb28e90642e397bdef883d86ce22": {
          "model_module": "@jupyter-widgets/controls",
          "model_name": "HTMLModel",
          "model_module_version": "1.5.0",
          "state": {
            "_dom_classes": [],
            "_model_module": "@jupyter-widgets/controls",
            "_model_module_version": "1.5.0",
            "_model_name": "HTMLModel",
            "_view_count": null,
            "_view_module": "@jupyter-widgets/controls",
            "_view_module_version": "1.5.0",
            "_view_name": "HTMLView",
            "description": "",
            "description_tooltip": null,
            "layout": "IPY_MODEL_69c3e205fb064a81a97a95743ea835ef",
            "placeholder": "​",
            "style": "IPY_MODEL_c711181ad2df412f9597cf2630c29c79",
            "value": " 0/100 [00:00&lt;?, ?it/s]"
          }
        },
        "9c3bf85132254e0591edbf65612bcc16": {
          "model_module": "@jupyter-widgets/base",
          "model_name": "LayoutModel",
          "model_module_version": "1.2.0",
          "state": {
            "_model_module": "@jupyter-widgets/base",
            "_model_module_version": "1.2.0",
            "_model_name": "LayoutModel",
            "_view_count": null,
            "_view_module": "@jupyter-widgets/base",
            "_view_module_version": "1.2.0",
            "_view_name": "LayoutView",
            "align_content": null,
            "align_items": null,
            "align_self": null,
            "border": null,
            "bottom": null,
            "display": null,
            "flex": null,
            "flex_flow": null,
            "grid_area": null,
            "grid_auto_columns": null,
            "grid_auto_flow": null,
            "grid_auto_rows": null,
            "grid_column": null,
            "grid_gap": null,
            "grid_row": null,
            "grid_template_areas": null,
            "grid_template_columns": null,
            "grid_template_rows": null,
            "height": null,
            "justify_content": null,
            "justify_items": null,
            "left": null,
            "margin": null,
            "max_height": null,
            "max_width": null,
            "min_height": null,
            "min_width": null,
            "object_fit": null,
            "object_position": null,
            "order": null,
            "overflow": null,
            "overflow_x": null,
            "overflow_y": null,
            "padding": null,
            "right": null,
            "top": null,
            "visibility": null,
            "width": null
          }
        },
        "1d6e92e2e0da4732a2cf8bee2fe1c21b": {
          "model_module": "@jupyter-widgets/base",
          "model_name": "LayoutModel",
          "model_module_version": "1.2.0",
          "state": {
            "_model_module": "@jupyter-widgets/base",
            "_model_module_version": "1.2.0",
            "_model_name": "LayoutModel",
            "_view_count": null,
            "_view_module": "@jupyter-widgets/base",
            "_view_module_version": "1.2.0",
            "_view_name": "LayoutView",
            "align_content": null,
            "align_items": null,
            "align_self": null,
            "border": null,
            "bottom": null,
            "display": null,
            "flex": null,
            "flex_flow": null,
            "grid_area": null,
            "grid_auto_columns": null,
            "grid_auto_flow": null,
            "grid_auto_rows": null,
            "grid_column": null,
            "grid_gap": null,
            "grid_row": null,
            "grid_template_areas": null,
            "grid_template_columns": null,
            "grid_template_rows": null,
            "height": null,
            "justify_content": null,
            "justify_items": null,
            "left": null,
            "margin": null,
            "max_height": null,
            "max_width": null,
            "min_height": null,
            "min_width": null,
            "object_fit": null,
            "object_position": null,
            "order": null,
            "overflow": null,
            "overflow_x": null,
            "overflow_y": null,
            "padding": null,
            "right": null,
            "top": null,
            "visibility": null,
            "width": null
          }
        },
        "c02ec4df6f47436396039f3404a56951": {
          "model_module": "@jupyter-widgets/controls",
          "model_name": "DescriptionStyleModel",
          "model_module_version": "1.5.0",
          "state": {
            "_model_module": "@jupyter-widgets/controls",
            "_model_module_version": "1.5.0",
            "_model_name": "DescriptionStyleModel",
            "_view_count": null,
            "_view_module": "@jupyter-widgets/base",
            "_view_module_version": "1.2.0",
            "_view_name": "StyleView",
            "description_width": ""
          }
        },
        "9c644910fc5e42fe94a6fc54ca5bd592": {
          "model_module": "@jupyter-widgets/base",
          "model_name": "LayoutModel",
          "model_module_version": "1.2.0",
          "state": {
            "_model_module": "@jupyter-widgets/base",
            "_model_module_version": "1.2.0",
            "_model_name": "LayoutModel",
            "_view_count": null,
            "_view_module": "@jupyter-widgets/base",
            "_view_module_version": "1.2.0",
            "_view_name": "LayoutView",
            "align_content": null,
            "align_items": null,
            "align_self": null,
            "border": null,
            "bottom": null,
            "display": null,
            "flex": null,
            "flex_flow": null,
            "grid_area": null,
            "grid_auto_columns": null,
            "grid_auto_flow": null,
            "grid_auto_rows": null,
            "grid_column": null,
            "grid_gap": null,
            "grid_row": null,
            "grid_template_areas": null,
            "grid_template_columns": null,
            "grid_template_rows": null,
            "height": null,
            "justify_content": null,
            "justify_items": null,
            "left": null,
            "margin": null,
            "max_height": null,
            "max_width": null,
            "min_height": null,
            "min_width": null,
            "object_fit": null,
            "object_position": null,
            "order": null,
            "overflow": null,
            "overflow_x": null,
            "overflow_y": null,
            "padding": null,
            "right": null,
            "top": null,
            "visibility": null,
            "width": null
          }
        },
        "5b4d92d4bed5445fa5f367a1e0957939": {
          "model_module": "@jupyter-widgets/controls",
          "model_name": "ProgressStyleModel",
          "model_module_version": "1.5.0",
          "state": {
            "_model_module": "@jupyter-widgets/controls",
            "_model_module_version": "1.5.0",
            "_model_name": "ProgressStyleModel",
            "_view_count": null,
            "_view_module": "@jupyter-widgets/base",
            "_view_module_version": "1.2.0",
            "_view_name": "StyleView",
            "bar_color": null,
            "description_width": ""
          }
        },
        "69c3e205fb064a81a97a95743ea835ef": {
          "model_module": "@jupyter-widgets/base",
          "model_name": "LayoutModel",
          "model_module_version": "1.2.0",
          "state": {
            "_model_module": "@jupyter-widgets/base",
            "_model_module_version": "1.2.0",
            "_model_name": "LayoutModel",
            "_view_count": null,
            "_view_module": "@jupyter-widgets/base",
            "_view_module_version": "1.2.0",
            "_view_name": "LayoutView",
            "align_content": null,
            "align_items": null,
            "align_self": null,
            "border": null,
            "bottom": null,
            "display": null,
            "flex": null,
            "flex_flow": null,
            "grid_area": null,
            "grid_auto_columns": null,
            "grid_auto_flow": null,
            "grid_auto_rows": null,
            "grid_column": null,
            "grid_gap": null,
            "grid_row": null,
            "grid_template_areas": null,
            "grid_template_columns": null,
            "grid_template_rows": null,
            "height": null,
            "justify_content": null,
            "justify_items": null,
            "left": null,
            "margin": null,
            "max_height": null,
            "max_width": null,
            "min_height": null,
            "min_width": null,
            "object_fit": null,
            "object_position": null,
            "order": null,
            "overflow": null,
            "overflow_x": null,
            "overflow_y": null,
            "padding": null,
            "right": null,
            "top": null,
            "visibility": null,
            "width": null
          }
        },
        "c711181ad2df412f9597cf2630c29c79": {
          "model_module": "@jupyter-widgets/controls",
          "model_name": "DescriptionStyleModel",
          "model_module_version": "1.5.0",
          "state": {
            "_model_module": "@jupyter-widgets/controls",
            "_model_module_version": "1.5.0",
            "_model_name": "DescriptionStyleModel",
            "_view_count": null,
            "_view_module": "@jupyter-widgets/base",
            "_view_module_version": "1.2.0",
            "_view_name": "StyleView",
            "description_width": ""
          }
        }
      }
    }
  },
  "cells": [
    {
      "cell_type": "markdown",
      "metadata": {
        "id": "view-in-github",
        "colab_type": "text"
      },
      "source": [
        "<a href=\"https://colab.research.google.com/github/LM1997610/NeuralNetworks/blob/main/ARIS_hw_(1).ipynb\" target=\"_parent\"><img src=\"https://colab.research.google.com/assets/colab-badge.svg\" alt=\"Open In Colab\"/></a>"
      ]
    },
    {
      "cell_type": "code",
      "source": [
        "! pip -q install powerlaw"
      ],
      "metadata": {
        "id": "eLHtKBmkZqdL"
      },
      "execution_count": 1,
      "outputs": []
    },
    {
      "cell_type": "code",
      "execution_count": 2,
      "metadata": {
        "id": "eml__lsLclL6"
      },
      "outputs": [],
      "source": [
        "import os\n",
        "import sys\n",
        "import random\n",
        "import numpy as np\n",
        "import networkx as nx\n",
        "from tqdm.auto import tqdm\n",
        "import matplotlib.pyplot as plt\n",
        "\n",
        "\n",
        "import powerlaw as pwl"
      ]
    },
    {
      "cell_type": "markdown",
      "source": [
        "## 1) The Barabassi-Albert Preferential Attachment Model:"
      ],
      "metadata": {
        "id": "WLPf2qyrF3-m"
      }
    },
    {
      "cell_type": "code",
      "source": [
        "G = nx.MultiDiGraph()\n",
        "\n",
        "G.add_node('0')\n",
        "G.add_node('1')\n",
        "\n",
        "G.add_edge('0', '1')\n",
        "G.add_edge('0', '1')\n",
        "G.add_edge('1', '0')\n",
        "G.add_edge('1', '0')\n",
        "\n",
        "pos = nx.spring_layout(G)\n",
        "\n",
        "plt.figure(figsize=(2, 2))\n",
        "\n",
        "nx.draw(G, pos, with_labels=True, connectionstyle='arc3, rad = 0.1')\n",
        "\n",
        "edge_labels=dict([((u,v,))\n",
        "             for u,v,d in G.edges(data=True)])\n",
        "\n",
        "plt.show()"
      ],
      "metadata": {
        "colab": {
          "base_uri": "https://localhost:8080/",
          "height": 237
        },
        "id": "CG50cv_ef2TT",
        "outputId": "389dc649-583a-4318-8c75-01f89565a15c"
      },
      "execution_count": 3,
      "outputs": [
        {
          "output_type": "display_data",
          "data": {
            "text/plain": [
              "<Figure size 200x200 with 1 Axes>"
            ],
            "image/png": "[encoded data removed]"
          },
          "metadata": {}
        }
      ]
    },
    {
      "cell_type": "code",
      "source": [
        "def prob_each_node(graph, time, l=4, c=0):\n",
        "\n",
        "  degrees = dict(graph.degree())\n",
        "  denominator = (time - 1)*(2*l + c)\n",
        "  my_prob_list = [(x+c)/denominator for x in list(degrees.values())]\n",
        "\n",
        "  return my_prob_list"
      ],
      "metadata": {
        "id": "NobpQ5tEhEJz"
      },
      "execution_count": 4,
      "outputs": []
    },
    {
      "cell_type": "code",
      "source": [
        "times = range(2, 10000)\n",
        "\n",
        "for t in tqdm(times):\n",
        "  G.add_node('node_'+str(t))\n",
        "  prob_vector = prob_each_node(G, time=t, l=4, c=7)\n",
        "\n",
        "  selected_nodes = random.choices(list(G.nodes()), weights=prob_vector, k=4)\n",
        "\n",
        "  for node in selected_nodes:\n",
        "    G.add_edge('node_'+str(t), node)\n"
      ],
      "metadata": {
        "colab": {
          "base_uri": "https://localhost:8080/",
          "height": 49,
          "referenced_widgets": [
            "9ad499c90f954b778f53cde0e201591d",
            "e6f3c00aa122470897c1b0a3c7e2a7ec",
            "e2101dd3228147fb99e483189cebc1ed",
            "97669d20dce94706ad4dd511e1547070",
            "3a4532b64f39433485b32c17758618d8",
            "9e9ccbac74f24ba09265ef182b1844c6",
            "2a2489f42ab24cf8a595e9283532af5c",
            "1d08f776363447df84f01fde53f2b493",
            "dd78c12035ef49d7a947febd107df92e",
            "4a3e818fb7d74cde932a49b82c121367",
            "eb5845eac026490fabd524e662b8a5e5"
          ]
        },
        "id": "_g9GyrWWjVBo",
        "outputId": "d0e8deb7-77e2-4b61-f3e2-2c4c0159f0d9"
      },
      "execution_count": 5,
      "outputs": [
        {
          "output_type": "display_data",
          "data": {
            "text/plain": [
              "  0%|          | 0/9998 [00:00<?, ?it/s]"
            ],
            "application/vnd.jupyter.widget-view+json": {
              "version_major": 2,
              "version_minor": 0,
              "model_id": "9ad499c90f954b778f53cde0e201591d"
            }
          },
          "metadata": {}
        }
      ]
    },
    {
      "cell_type": "code",
      "source": [
        "def plot_degree_histogram(g, normalized=True):\n",
        "\n",
        "    aux_y = nx.degree_histogram(g)\n",
        "    aux_x = np.arange(0,len(aux_y)).tolist()\n",
        "\n",
        "    n_nodes = g.number_of_nodes()\n",
        "\n",
        "    if normalized:\n",
        "        for i in range(len(aux_y)):\n",
        "            aux_y[i] = aux_y[i]/n_nodes\n",
        "\n",
        "    return aux_x, aux_y"
      ],
      "metadata": {
        "id": "rwn-EkYmmcYS"
      },
      "execution_count": 6,
      "outputs": []
    },
    {
      "cell_type": "code",
      "source": [
        "aux_x, aux_y = plot_degree_histogram(G, normalized=False)\n",
        "\n",
        "fig, (ax1, ax2) = plt.subplots(1, 2,figsize=(12, 3))\n",
        "\n",
        "\n",
        "ax1.plot(aux_x[4:50], aux_y[4:50], '-')\n",
        "ax1.set_title('\\n Degree Distribution\\n')\n",
        "ax1.set_xlabel('Degree\\n')\n",
        "ax1.set_ylabel('Number of Nodes\\n')\n",
        "ax1.grid()\n",
        "\n",
        "\n",
        "\n",
        "ax2.plot(aux_x, aux_y, 'o', markersize=3.5, color='green')\n",
        "ax2.set_title('\\n Degree Distribution (log-log scale)\\n')\n",
        "ax2.set_xlabel('Degree\\n(log scale)')\n",
        "ax2.set_ylabel('Number of Nodes\\n(log scale)')\n",
        "ax2.set_xscale(\"log\"); ax2.set_yscale(\"log\")\n",
        "ax2.grid()\n",
        "\n",
        "plt.subplots_adjust(wspace=0.4)\n",
        "plt.show()"
      ],
      "metadata": {
        "colab": {
          "base_uri": "https://localhost:8080/",
          "height": 396
        },
        "id": "3-cm3NwYnL9h",
        "outputId": "ebb3a346-81bb-4688-f46f-6cc526b97d9c"
      },
      "execution_count": 7,
      "outputs": [
        {
          "output_type": "display_data",
          "data": {
            "text/plain": [
              "<Figure size 1200x300 with 2 Axes>"
            ],
            "image/png": "[encoded data removed]"
          },
          "metadata": {}
        }
      ]
    },
    {
      "cell_type": "code",
      "source": [
        "def my_power_law(deg_lista, l=4, c=0):\n",
        "\n",
        "  with np.errstate(divide='ignore', invalid='ignore'):\n",
        "    a = 2*l*(l+1)\n",
        "    p_k = a*np.array(deg_lista)**(-(3+c/l))\n",
        "  return deg_lista, p_k"
      ],
      "metadata": {
        "id": "InW5mSE4uZF-"
      },
      "execution_count": 8,
      "outputs": []
    },
    {
      "cell_type": "code",
      "source": [
        "plt.figure(figsize=(7, 3))\n",
        "\n",
        "aux_x, aux_y = plot_degree_histogram(G, normalized = True)\n",
        "plt.plot(aux_x, aux_y, 'o', markersize=4, color=\"green\")\n",
        "\n",
        "k, p_k = my_power_law(aux_x, c=0)\n",
        "plt.plot(k[1:], p_k[1:], '-', color=\"orange\", linewidth=2.5)\n",
        "\n",
        "plt.title('\\n Degree Distribution (log-log scale)\\n')\n",
        "plt.xlabel('Degree\\n(log scale)')\n",
        "plt.ylabel('Number of Nodes\\n(log scale)')\n",
        "plt.xscale(\"log\"); plt.yscale(\"log\")\n",
        "\n",
        "\n",
        "plt.grid()"
      ],
      "metadata": {
        "colab": {
          "base_uri": "https://localhost:8080/",
          "height": 396
        },
        "id": "_-9J7qs1FFLz",
        "outputId": "a6390138-5412-440d-d4ad-fca65423d61b"
      },
      "execution_count": 9,
      "outputs": [
        {
          "output_type": "display_data",
          "data": {
            "text/plain": [
              "<Figure size 700x300 with 1 Axes>"
            ],
            "image/png": "[encoded data removed]"
          },
          "metadata": {}
        }
      ]
    },
    {
      "cell_type": "code",
      "source": [],
      "metadata": {
        "id": "2K2hXa5ivUwL"
      },
      "execution_count": 9,
      "outputs": []
    },
    {
      "cell_type": "markdown",
      "source": [
        "## 2) Densest subgraph, Minimum cut and Sparsest cut\n"
      ],
      "metadata": {
        "id": "PHfaajXd5q6f"
      }
    },
    {
      "cell_type": "code",
      "source": [
        "number_of_nodes = 10\n",
        "\n",
        "G = nx.Graph()\n",
        "G.add_nodes_from(range(1, number_of_nodes+1))\n",
        "\n",
        "edges = [(1, 2), (1, 3), (1, 4), (1,7),\n",
        "         (2, 3), (2, 4), (2,5),\n",
        "         (3, 4), (3,7),\n",
        "         (4, 5),\n",
        "         (5, 6), (5,9),\n",
        "         (6, 8), (6, 9), (6, 10),\n",
        "         (7, 8), (7, 10),\n",
        "         (8, 9), (8, 10),\n",
        "         (9, 10)]                 #(11,3), (12,11), (11,8), (1,12),(11,9)]\n",
        "\n",
        "G.add_edges_from(edges)\n",
        "\n",
        "fixed_positions = {1:(2.0, 5.5), 2:(3.1, 5.1), 3:(1.2, 4.1), 4:(2.3, 3.7), 5:(3.5, 3.7),\n",
        "                   6:(3.5, 2.0), 7:(1.5, 2.0), 8:(2.5, 1.3), 9:(4.0, 0.5), 10:(3.0, 0)}\n",
        "\n",
        "fixed_nodes = fixed_positions.keys()\n",
        "pos = nx.spring_layout(G, pos=fixed_positions, fixed = fixed_positions.keys())\n",
        "\n",
        "fig, ax = plt.subplots(figsize=(5,4))\n",
        "\n",
        "nx.draw(G, with_labels=True, ax=ax, pos=pos,\n",
        "        node_color='skyblue', font_color='black', font_weight='bold', font_size=12, node_size=500)"
      ],
      "metadata": {
        "id": "WDPSXOHQ5xjB",
        "colab": {
          "base_uri": "https://localhost:8080/",
          "height": 345
        },
        "outputId": "fb9406fd-87b0-4838-bae4-d637c97997f5"
      },
      "execution_count": 10,
      "outputs": [
        {
          "output_type": "display_data",
          "data": {
            "text/plain": [
              "<Figure size 500x400 with 1 Axes>"
            ],
            "image/png": "[encoded data removed]"
          },
          "metadata": {}
        }
      ]
    },
    {
      "cell_type": "code",
      "source": [
        "d_distrib = dict(G.degree())\n",
        "\n",
        "print(f\"Degree distribution: {d_distrib }\")"
      ],
      "metadata": {
        "colab": {
          "base_uri": "https://localhost:8080/"
        },
        "id": "A-QZy7eLWJcJ",
        "outputId": "ede541b4-7572-4dc4-b468-27b9051015e9"
      },
      "execution_count": 11,
      "outputs": [
        {
          "output_type": "stream",
          "name": "stdout",
          "text": [
            "Degree distribution: {1: 4, 2: 4, 3: 4, 4: 4, 5: 4, 6: 4, 7: 4, 8: 4, 9: 4, 10: 4}\n"
          ]
        }
      ]
    },
    {
      "cell_type": "code",
      "source": [
        "def GreedyDensestSubgraph(Graph):\n",
        "\n",
        "    print(f\"Nodes in G: {set(G.nodes())}\\n\")\n",
        "\n",
        "    S = set(Graph.nodes())\n",
        "    sub_graph = set(Graph.nodes())\n",
        "\n",
        "    while len(S) > 1:\n",
        "\n",
        "        v_node = min(S, key=lambda v: Graph.subgraph(S).degree(v))\n",
        "\n",
        "        S.remove(v_node)\n",
        "\n",
        "        density_S = len(Graph.subgraph(S).edges()) / len(S)\n",
        "        density_subgraph = len(Graph.subgraph(sub_graph).edges()) / len(sub_graph)\n",
        "\n",
        "        if density_S >= density_subgraph:\n",
        "          sub_graph = set(S)\n",
        "          print(f\" removed node: {str(v_node)}\")\n",
        "\n",
        "    print(f\"\\nDensest SubGraph: {sub_graph}\")\n",
        "    return sub_graph"
      ],
      "metadata": {
        "id": "D7TDNjIAGFgO"
      },
      "execution_count": 12,
      "outputs": []
    },
    {
      "cell_type": "code",
      "source": [
        "densest_sgraph = GreedyDensestSubgraph(G)"
      ],
      "metadata": {
        "colab": {
          "base_uri": "https://localhost:8080/"
        },
        "id": "HWpQPh9TMIud",
        "outputId": "d77bb561-7b31-4f44-fcd1-c7f85101988f"
      },
      "execution_count": 13,
      "outputs": [
        {
          "output_type": "stream",
          "name": "stdout",
          "text": [
            "Nodes in G: {1, 2, 3, 4, 5, 6, 7, 8, 9, 10}\n",
            "\n",
            "\n",
            "Densest SubGraph: {1, 2, 3, 4, 5, 6, 7, 8, 9, 10}\n"
          ]
        }
      ]
    },
    {
      "cell_type": "code",
      "source": [
        "adj_matrix = nx.to_numpy_array(G)\n",
        "\n",
        "print(f'Adjacency matrix A -> shape={adj_matrix.shape}:\\n')\n",
        "print(f'{adj_matrix}')"
      ],
      "metadata": {
        "colab": {
          "base_uri": "https://localhost:8080/"
        },
        "id": "j7GzFu6YZ0Lm",
        "outputId": "2c3f787a-8aff-468e-ad4a-5f002c574d47"
      },
      "execution_count": 14,
      "outputs": [
        {
          "output_type": "stream",
          "name": "stdout",
          "text": [
            "Adjacency matrix A -> shape=(10, 10):\n",
            "\n",
            "[[0. 1. 1. 1. 0. 0. 1. 0. 0. 0.]\n",
            " [1. 0. 1. 1. 1. 0. 0. 0. 0. 0.]\n",
            " [1. 1. 0. 1. 0. 0. 1. 0. 0. 0.]\n",
            " [1. 1. 1. 0. 1. 0. 0. 0. 0. 0.]\n",
            " [0. 1. 0. 1. 0. 1. 0. 0. 1. 0.]\n",
            " [0. 0. 0. 0. 1. 0. 0. 1. 1. 1.]\n",
            " [1. 0. 1. 0. 0. 0. 0. 1. 0. 1.]\n",
            " [0. 0. 0. 0. 0. 1. 1. 0. 1. 1.]\n",
            " [0. 0. 0. 0. 1. 1. 0. 1. 0. 1.]\n",
            " [0. 0. 0. 0. 0. 1. 1. 1. 1. 0.]]\n"
          ]
        }
      ]
    },
    {
      "cell_type": "code",
      "source": [
        "def Sparsest_Cut(A_matrix, grafo=False):\n",
        "\n",
        "  D = np.eye(A_matrix.shape[0])\n",
        "\n",
        "  normalized_laplacian_matrix = D - A_matrix/4  # L = I − 1/d * A\n",
        "\n",
        "  eigenvalues, eigenvectors = np.linalg.eig(normalized_laplacian_matrix)\n",
        "  vector = eigenvectors[:,1]\n",
        "\n",
        "  sorted_indices = np.argsort(vector)\n",
        "  sorted_values = vector[sorted_indices]\n",
        "\n",
        "  c_one = [sorted_indices[x] for x in range(len(sorted_indices)) if sorted_values[x] > 0]\n",
        "  c_two = [sorted_indices[x] for x in range(len(sorted_indices)) if sorted_values[x] < 0]\n",
        "\n",
        "  # --- Cheeger’s inequality --- #\n",
        "\n",
        "  lambda_2 = eigenvalues[1]\n",
        "\n",
        "  conductance = nx.conductance(grafo, S=c_one, T=c_two)\n",
        "\n",
        "  if (lambda_2/2 <= conductance) and (conductance <= np.sqrt(lambda_2*2)):\n",
        "\n",
        "    print(\"Cheeger’s inequality holds:\", end = \" \")\n",
        "    print(f\"{np.round(lambda_2/2, 3).real} <= {conductance} <= {np.round(np.sqrt(lambda_2*2), 3).real}\")\n",
        "\n",
        "  return c_one, c_two"
      ],
      "metadata": {
        "id": "SkApcXW0P1Uz"
      },
      "execution_count": 15,
      "outputs": []
    },
    {
      "cell_type": "code",
      "source": [
        "c1, c2 = Sparsest_Cut(adj_matrix, grafo = G)"
      ],
      "metadata": {
        "colab": {
          "base_uri": "https://localhost:8080/"
        },
        "id": "yX8lUzJHP-uc",
        "outputId": "27f19774-c707-4df7-9396-1d079e2978a2"
      },
      "execution_count": 16,
      "outputs": [
        {
          "output_type": "stream",
          "name": "stdout",
          "text": [
            "Cheeger’s inequality holds: 0.625 <= 0.875 <= 1.581\n"
          ]
        }
      ]
    },
    {
      "cell_type": "code",
      "source": [
        "fig, ax = plt.subplots()\n",
        "\n",
        "nodi_1 = [x+1 for x in c1]\n",
        "nodi_2 = [x+1 for x in c2]\n",
        "\n",
        "#pos = nx.spring_layout(G)\n",
        "nx.draw_networkx_nodes(G, nodelist = nodi_1, node_size=750, alpha = 0.15, node_color='green', pos = pos)\n",
        "nx.draw_networkx_nodes(G, nodelist = nodi_2, node_size=750, alpha = 0.15, node_color='blue', pos = pos)\n",
        "\n",
        "nx.draw_networkx_edges(G, edgelist= [(u,v) for u,v in G.edges(nodi_1)], edge_color = \"black\", alpha=0.85, pos=pos)\n",
        "nx.draw_networkx_edges(G, edgelist= [(u,v) for u,v in G.edges(nodi_2)], edge_color = \"red\", pos=pos)\n",
        "text = nx.draw_networkx_labels(G, pos, font_size=12, font_color='black', font_weight='bold')\n",
        "\n",
        "_ = ax.axis('off')"
      ],
      "metadata": {
        "colab": {
          "base_uri": "https://localhost:8080/",
          "height": 406
        },
        "id": "iLA2n7H_gxR2",
        "outputId": "424e2ea1-4dec-43f0-c7a2-357284e8bf8b"
      },
      "execution_count": 17,
      "outputs": [
        {
          "output_type": "display_data",
          "data": {
            "text/plain": [
              "<Figure size 640x480 with 1 Axes>"
            ],
            "image/png": "[encoded data removed]"
          },
          "metadata": {}
        }
      ]
    },
    {
      "cell_type": "code",
      "source": [
        "A = np.array([[0, 1, 1, 1, 0, 1, 0, 0],\n",
        "              [1, 0, 1, 0, 0, 0, 1, 1],\n",
        "              [1, 1, 0, 1, 1, 0, 0, 0],\n",
        "              [1, 0, 1, 0, 1, 0, 0, 1],\n",
        "              [0, 0, 1, 1, 0, 1, 1, 0],\n",
        "              [1, 0, 0, 0, 1, 0, 1, 1],\n",
        "              [0, 1, 0, 0, 1, 1, 0, 1],\n",
        "              [0, 1, 0, 1, 0, 1, 1, 0]])\n",
        "\n",
        "gg = nx.from_numpy_array(A)\n",
        "\n",
        "c1, c2 = Sparsest_Cut(A, grafo = gg)\n",
        "\n",
        "fig, ax = plt.subplots()\n",
        "\n",
        "pos = nx.spring_layout(gg)\n",
        "nx.draw_networkx_nodes(gg, nodelist = c1, node_size=750, alpha = 0.15, node_color='green', pos = pos)\n",
        "nx.draw_networkx_nodes(gg, nodelist = c2, node_size=750, alpha = 0.15, node_color='blue', pos = pos)\n",
        "nx.draw_networkx_edges(gg, edgelist= [(u,v) for u,v in gg.edges(c1)], edge_color = \"black\", alpha=0.85, pos=pos)\n",
        "nx.draw_networkx_edges(gg, edgelist= [(u,v) for u,v in gg.edges(c2) if u in c2 and v in c2], edge_color = \"red\", pos=pos)\n",
        "text = nx.draw_networkx_labels(gg, pos, font_size=12, font_color='black', font_weight='bold')\n",
        "\n",
        "_ = ax.axis('off')"
      ],
      "metadata": {
        "colab": {
          "base_uri": "https://localhost:8080/",
          "height": 423
        },
        "id": "p1TN2mKhaZeu",
        "outputId": "10c86f45-e1cb-4f6f-d1bb-c6931a3f5589"
      },
      "execution_count": 18,
      "outputs": [
        {
          "output_type": "stream",
          "name": "stdout",
          "text": [
            "Cheeger’s inequality holds: 0.842 <= 1.0 <= 1.835\n"
          ]
        },
        {
          "output_type": "display_data",
          "data": {
            "text/plain": [
              "<Figure size 640x480 with 1 Axes>"
            ],
            "image/png": "[encoded data removed]"
          },
          "metadata": {}
        }
      ]
    },
    {
      "cell_type": "code",
      "source": [],
      "metadata": {
        "id": "sfvcnLya1c8z"
      },
      "execution_count": 18,
      "outputs": []
    },
    {
      "cell_type": "markdown",
      "source": [
        "## 3) Friendship paradox:\n",
        "\n",
        "An interesting phenomenon in **social networks** is\n",
        "that a random person’s expected degree is smaller than the degree of her peers:\n",
        "\n",
        "` Your friends are more popular than you are!`\n",
        "\n",
        "Given an undirected graph $G = (V,E)$:\n",
        "\n",
        "Let $X$ be a random variable representing the degree of a randomly selected node in the graph\\\n",
        "and $Y$ be a random variable representing the average degree of its neighbors.\n",
        "\n"
      ],
      "metadata": {
        "id": "2QeoBJlFq63i"
      }
    },
    {
      "cell_type": "markdown",
      "source": [
        "Prove that $𝐸[𝑋]≤𝐸[𝑌]$ :\n",
        "\n",
        "The expected value of $X$ is:\n",
        "$$ \\mu =  E[X] = \\frac{1}{|V|} \\sum_{i\\in V} d_i = \\frac{2|E|}{|V|} $$\n",
        "\n",
        "Where the *sum of the degrees of all nodes* equals twice the number of edges in the graph.\\\n",
        "While its variance:\n",
        "\n",
        "$$ \\sigma_X^2 =\\sum_{i\\in V}(d_i- \\mu)^2 \\frac{1}{|V|} =  \n",
        "\\frac{1}{|V|} \\sum_{i\\in V}(d_i^2 -2\\mu d_i +\\mu^2) $$\n",
        "\n",
        "$$ = \\frac{1}{|V|} \\left[\\sum_{i}d_i^2 -4\\mu\\text{|E|} + \\mu^2|V|\\right] =$$\n",
        "\n",
        "$$  = \\frac{\\sum_{i}d_i^2}{|V|} -2\\mu \\frac{2|E|}{|V|} + \\mu^2 = $$\n",
        "$$ = \\frac{\\sum_{i}d_i^2}{|V|}  -2\\mu^2 + \\mu^2 = \\frac{\\sum_{i}d_i^2}{|V|}- \\mu^2 = \\sigma_X^2 $$\n",
        "\n",
        "\n",
        "And expected value $E[Y]$ is:\n",
        "\n",
        "$$ \\mu_Y = E[Y] = \\frac{1}{2|E|} \\sum_{i\\in V}  \\sum_{j \\in S_i} d_j = \\frac{1}{2|E|} \\sum_{i\\in V} d_i^2 $$\n",
        "\n",
        "From the variance formula above we have: $ \\sum\\limits_{i=1}^{|V|}d_i^2 = (\\sigma_X^2+\\mu^2)|V| $ so we can rewrite:\n",
        "\n",
        "$$  \\mu_Y = E[Y] = \\frac{(\\sigma_X^2+\\mu^2)|V|}{2|E|} = \\frac{(\\sigma_X^2+\\mu^2)}{\\mu} = \\mu + \\frac{\\sigma_X^2}{\\mu} $$\n",
        "\n",
        "This proves that:\n",
        "\n",
        "$$ \\ \\mu \\leq \\mu + \\frac{\\sigma_X^2}{\\mu} = \\mu_Y $$\n"
      ],
      "metadata": {
        "id": "2bmXoftvuv67"
      }
    },
    {
      "cell_type": "markdown",
      "source": [
        "We have that $ E[X] = E[Y] $ when $ \\frac{\\sigma^2}{\\mu} = 0 $\\\n",
        "In this case the graph would be regular connected, this means that each node has same degree of its neighboring nodes"
      ],
      "metadata": {
        "id": "nYUltRozThj4"
      }
    },
    {
      "cell_type": "markdown",
      "source": [
        "## 4)  Streaming Algorithm for Graph Connectivity:"
      ],
      "metadata": {
        "id": "mhWBBEOUFszZ"
      }
    },
    {
      "cell_type": "code",
      "source": [
        "from IPython.display import Image\n",
        "from collections import defaultdict\n",
        "\n",
        "from helper import check_add_edge, do_plot, do_gif"
      ],
      "metadata": {
        "id": "EYcw6SHa7j7T"
      },
      "execution_count": 19,
      "outputs": []
    },
    {
      "cell_type": "code",
      "source": [
        "folder_path = \"graph_status\"\n",
        "os.makedirs(folder_path, exist_ok=True)\n",
        "\n",
        "stream_edge = [(\"c\",\"e\"), (\"b\",\"d\"), (\"a\",\"c\"), (\"c\",\"b\"), (\"a\",\"b\"),\n",
        "                (\"c\",\"d\"), (\"d\",\"e\"), (\"b\",\"e\"), (\"b\",\"d\"), (\"c\",\"e\")]"
      ],
      "metadata": {
        "id": "Sat9fFIKaOgz"
      },
      "execution_count": 20,
      "outputs": []
    },
    {
      "cell_type": "code",
      "source": [
        "F = []\n",
        "arrival_time = {}\n",
        "window_size = 7\n",
        "\n",
        "window = []\n",
        "is_disconnected = False\n",
        "\n",
        "times = range(0, 100)\n",
        "for t in tqdm(times):\n",
        "\n",
        "    if t < len(stream_edge):\n",
        "        new_edge = stream_edge[t]\n",
        "\n",
        "    else:\n",
        "        u = random.choice(\"abcdefg\")\n",
        "        v = random.choice(\"abcdefg\")\n",
        "        new_edge = (u,v)\n",
        "\n",
        "        while check_add_edge(u,v, F) == False:\n",
        "            u = random.choice(\"abcdefg\")\n",
        "            v = random.choice(\"abcdefg\")\n",
        "            new_edge = (u,v)\n",
        "\n",
        "    #print(f\" t:{t+1} - arrived: {new_edge}\", end =\"\")\n",
        "    print(f\"\\r t:{t+1:>3} - arrived: {new_edge}\", end=\"\", flush=True)\n",
        "\n",
        "    arrival_time[new_edge] = t\n",
        "    F = [new_edge] + F\n",
        "    window.append(new_edge)\n",
        "    cycle_path = has_cycle(F)\n",
        "\n",
        "    if cycle_path:\n",
        "\n",
        "        #print(f\"cycle: {cycle_path}\", end='')\n",
        "        edge_path = [(cycle_path[i], cycle_path[i+1]) for i in range(len(cycle_path) - 1)] + [(cycle_path[-1], cycle_path[0])]\n",
        "        loop = [t if t in F else (t[1], t[0]) for t in edge_path]\n",
        "\n",
        "        oldest_edge_time = min(arrival_time[key] for key in  loop)\n",
        "        oldest_edge = [key for key in  loop if arrival_time[key] == oldest_edge_time][0]\n",
        "        #print(f\" → removed: {oldest_edge} from t={oldest_edge_time}\")\n",
        "        #print(f\"\\r → removed: {oldest_edge} from t={oldest_edge_time}\", flush=True)\n",
        "\n",
        "        F.remove(oldest_edge)\n",
        "        arrival_time.pop(oldest_edge)\n",
        "        #do_plot(F, window, t+1)\n",
        "\n",
        "    if t >= window_size:\n",
        "        window.pop(0)\n",
        "\n",
        "    if t - window_size+1 > min(arrival_time.values()) or t-window_size < 0:\n",
        "        is_disconnected = True\n",
        "        print(f\" -> Disconnected! {min(arrival_time.values())}\")\n",
        "        #print(\"\\tis Disconnected !\", t - window_size+1, min(arrival_time.values()))\n",
        "\n",
        "    do_plot(F, window, t+1,folder_path, discon = is_disconnected)\n",
        "\n",
        "do_gif(folder_path, times)"
      ],
      "metadata": {
        "colab": {
          "base_uri": "https://localhost:8080/",
          "height": 260,
          "referenced_widgets": [
            "45486d69bc68476da54ae70660b12da3",
            "f62b7200e9e8471fab69f630d14c24b2",
            "14a21fce799f4ebabdcbc08b0bed2f0a",
            "d69bcb28e90642e397bdef883d86ce22",
            "9c3bf85132254e0591edbf65612bcc16",
            "1d6e92e2e0da4732a2cf8bee2fe1c21b",
            "c02ec4df6f47436396039f3404a56951",
            "9c644910fc5e42fe94a6fc54ca5bd592",
            "5b4d92d4bed5445fa5f367a1e0957939",
            "69c3e205fb064a81a97a95743ea835ef",
            "c711181ad2df412f9597cf2630c29c79"
          ]
        },
        "id": "UzftgYIA7WFc",
        "outputId": "a67fdc6c-dfdd-4780-81dc-d6de58e828f3"
      },
      "execution_count": 21,
      "outputs": [
        {
          "output_type": "display_data",
          "data": {
            "text/plain": [
              "  0%|          | 0/100 [00:00<?, ?it/s]"
            ],
            "application/vnd.jupyter.widget-view+json": {
              "version_major": 2,
              "version_minor": 0,
              "model_id": "45486d69bc68476da54ae70660b12da3"
            }
          },
          "metadata": {}
        },
        {
          "output_type": "stream",
          "name": "stdout",
          "text": [
            "\r t:  1 - arrived: ('c', 'e')"
          ]
        },
        {
          "output_type": "error",
          "ename": "NameError",
          "evalue": "name 'has_cycle' is not defined",
          "traceback": [
            "\u001b[0;31m---------------------------------------------------------------------------\u001b[0m",
            "\u001b[0;31mNameError\u001b[0m                                 Traceback (most recent call last)",
            "\u001b[0;32m<ipython-input-21-6ba8d12e8894>\u001b[0m in \u001b[0;36m<cell line: 9>\u001b[0;34m()\u001b[0m\n\u001b[1;32m     28\u001b[0m     \u001b[0mF\u001b[0m \u001b[0;34m=\u001b[0m \u001b[0;34m[\u001b[0m\u001b[0mnew_edge\u001b[0m\u001b[0;34m]\u001b[0m \u001b[0;34m+\u001b[0m \u001b[0mF\u001b[0m\u001b[0;34m\u001b[0m\u001b[0;34m\u001b[0m\u001b[0m\n\u001b[1;32m     29\u001b[0m     \u001b[0mwindow\u001b[0m\u001b[0;34m.\u001b[0m\u001b[0mappend\u001b[0m\u001b[0;34m(\u001b[0m\u001b[0mnew_edge\u001b[0m\u001b[0;34m)\u001b[0m\u001b[0;34m\u001b[0m\u001b[0;34m\u001b[0m\u001b[0m\n\u001b[0;32m---> 30\u001b[0;31m     \u001b[0mcycle_path\u001b[0m \u001b[0;34m=\u001b[0m \u001b[0mhas_cycle\u001b[0m\u001b[0;34m(\u001b[0m\u001b[0mF\u001b[0m\u001b[0;34m)\u001b[0m\u001b[0;34m\u001b[0m\u001b[0;34m\u001b[0m\u001b[0m\n\u001b[0m\u001b[1;32m     31\u001b[0m \u001b[0;34m\u001b[0m\u001b[0m\n\u001b[1;32m     32\u001b[0m     \u001b[0;32mif\u001b[0m \u001b[0mcycle_path\u001b[0m\u001b[0;34m:\u001b[0m\u001b[0;34m\u001b[0m\u001b[0;34m\u001b[0m\u001b[0m\n",
            "\u001b[0;31mNameError\u001b[0m: name 'has_cycle' is not defined"
          ]
        }
      ]
    },
    {
      "cell_type": "code",
      "source": [
        "Image(open('streaming_algorithm.gif','rb').read())"
      ],
      "metadata": {
        "id": "5wSDvBDJCK07"
      },
      "execution_count": null,
      "outputs": []
    },
    {
      "cell_type": "code",
      "source": [
        "def has_cycle(edges):\n",
        "\n",
        "    adj = defaultdict(set)\n",
        "    path = []\n",
        "    for x, y in edges:\n",
        "        adj[x].add(y)\n",
        "        adj[y].add(x)\n",
        "\n",
        "    col = defaultdict(int)\n",
        "    parent = {}\n",
        "\n",
        "    def dfs(x, p):\n",
        "        col[x] = 1\n",
        "        parent[x] = p\n",
        "\n",
        "        for y in adj[x]:\n",
        "            if col[y] == 0:\n",
        "                if dfs(y, x):\n",
        "                    return True\n",
        "            elif col[y] == 1 and parent[x] != y:\n",
        "                #print(f\"cycle found: {y} -> \", end='')\n",
        "                node = x\n",
        "                path.append(y)\n",
        "                while node != y:\n",
        "                    #print(f\"{node} -> \", end='')\n",
        "                    path.append(node)\n",
        "                    node = parent[node]\n",
        "                #print(f\"{y} |\", end='')\n",
        "                return path\n",
        "        col[x] = 2\n",
        "        return None\n",
        "\n",
        "    for x in adj:\n",
        "        if col[x] == 0:\n",
        "            if(dfs(x, None)) == True:\n",
        "                return path\n",
        "    return False\n",
        "\n"
      ],
      "metadata": {
        "id": "SciklGgZ8Bha"
      },
      "execution_count": null,
      "outputs": []
    },
    {
      "cell_type": "code",
      "source": [],
      "metadata": {
        "id": "I-dF7ssy8G41"
      },
      "execution_count": null,
      "outputs": []
    },
    {
      "cell_type": "code",
      "source": [],
      "metadata": {
        "id": "csADVnkmY0ap"
      },
      "execution_count": null,
      "outputs": []
    },
    {
      "cell_type": "code",
      "source": [],
      "metadata": {
        "id": "n6vj43ZuY0cx"
      },
      "execution_count": null,
      "outputs": []
    },
    {
      "cell_type": "code",
      "source": [],
      "metadata": {
        "id": "ZTHT6jlFY0gK"
      },
      "execution_count": null,
      "outputs": []
    },
    {
      "cell_type": "markdown",
      "source": [
        "## 6) Graph Neural Networks:"
      ],
      "metadata": {
        "id": "FvSURh7NY0r2"
      }
    },
    {
      "cell_type": "code",
      "source": [],
      "metadata": {
        "id": "pBiJZz2CY6-C"
      },
      "execution_count": null,
      "outputs": []
    }
  ]
}